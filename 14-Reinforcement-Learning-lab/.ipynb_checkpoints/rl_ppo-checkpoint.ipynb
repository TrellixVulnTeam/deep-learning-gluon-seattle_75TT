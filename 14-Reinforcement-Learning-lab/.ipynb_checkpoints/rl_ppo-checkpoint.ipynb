{
 "cells": [
  {
   "cell_type": "markdown",
   "metadata": {
    "slideshow": {
     "slide_type": "slide"
    }
   },
   "source": [
    "# Reinforcement Learning\n"
   ]
  },
  {
   "cell_type": "markdown",
   "metadata": {
    "slideshow": {
     "slide_type": "fragment"
    }
   },
   "source": [
    "![](support/agent_env.png)"
   ]
  },
  {
   "cell_type": "markdown",
   "metadata": {
    "slideshow": {
     "slide_type": "slide"
    }
   },
   "source": [
    "## Goals of Reinforcement Learning\n",
    "\n",
    "Extend learning to cover cases where:\n",
    "\n",
    "* IID assumption does not hold\n",
    "* Prediction changes real world events\n",
    "* Try out new things and learn from experience\n",
    "* Need to stitch together sequence of steps to achieve prespecified goal(s)"
   ]
  },
  {
   "cell_type": "markdown",
   "metadata": {
    "slideshow": {
     "slide_type": "slide"
    }
   },
   "source": [
    "### Supervised Learning vs Reinforcement Learning\n",
    "\n",
    "|Supervised Learning | Reinforcement Learning |\n",
    "|------------------- |------------------------|\n",
    "|Input data, predict labels | Input observations, predict actions|\n",
    "|Minimize loss | Maximize rewards|\n",
    "|Model is relationship between data and label| Model is relationship between (states, actions) to new (states, rewards)|\n",
    "|Learn good model | Learn good policy (model, value function are optional)"
   ]
  },
  {
   "cell_type": "markdown",
   "metadata": {
    "slideshow": {
     "slide_type": "slide"
    }
   },
   "source": [
    "## Reinforcement Learning Components\n",
    "\n",
    "\n",
    "### Concepts"
   ]
  },
  {
   "cell_type": "markdown",
   "metadata": {
    "slideshow": {
     "slide_type": "fragment"
    }
   },
   "source": [
    "Agent: Plan and act in an environment. \n",
    "* achive a desired goal or maximize reward."
   ]
  },
  {
   "cell_type": "markdown",
   "metadata": {
    "slideshow": {
     "slide_type": "fragment"
    }
   },
   "source": [
    "Environment: Context where the agent lives. \n",
    "* Provide an agent with observations\n",
    "* accept an agent action\n",
    "* change based on the agent action."
   ]
  },
  {
   "cell_type": "markdown",
   "metadata": {
    "slideshow": {
     "slide_type": "slide"
    }
   },
   "source": [
    "### Sets\n",
    "\n",
    "State: Snapshot that completely specifies the environment at a point in time. \n",
    "\n",
    "* The set of all possible space is the state space. Can be discrete or continuous"
   ]
  },
  {
   "cell_type": "markdown",
   "metadata": {
    "slideshow": {
     "slide_type": "fragment"
    }
   },
   "source": [
    "Observation: Agents perception of the environment\n",
    "\n",
    "* May be incomplete and/or noisy versions of the state"
   ]
  },
  {
   "cell_type": "markdown",
   "metadata": {
    "slideshow": {
     "slide_type": "fragment"
    }
   },
   "source": [
    "Action: How the agents interacts to change the environment. \n",
    "\n",
    "* Set of all possible actions is the action space. Can also be discrete or continuous"
   ]
  },
  {
   "cell_type": "markdown",
   "metadata": {
    "slideshow": {
     "slide_type": "slide"
    }
   },
   "source": [
    "### Functions\n",
    "\n",
    "Model: A function that specifies the environment dynamics\n",
    "* Given a current state and an action, returns new state\n",
    "* Sometimes returns other information and the reward"
   ]
  },
  {
   "cell_type": "markdown",
   "metadata": {
    "slideshow": {
     "slide_type": "fragment"
    }
   },
   "source": [
    "Reward: A function that specifies what the return is on an agents action.\n",
    "* Given a current state and an action, returns the reward."
   ]
  },
  {
   "cell_type": "markdown",
   "metadata": {
    "slideshow": {
     "slide_type": "slide"
    }
   },
   "source": [
    "## Environments"
   ]
  },
  {
   "cell_type": "code",
   "execution_count": 2,
   "metadata": {
    "slideshow": {
     "slide_type": "fragment"
    }
   },
   "outputs": [
    {
     "name": "stdout",
     "output_type": "stream",
     "text": [
      "observation space: Box(4,)\n",
      "action space: Discrete(2)\n"
     ]
    }
   ],
   "source": [
    "import gym\n",
    "env = gym.make('CartPole-v0')\n",
    "\n",
    "print('observation space:', env.observation_space)\n",
    "print('action space:', env.action_space)"
   ]
  },
  {
   "cell_type": "code",
   "execution_count": 3,
   "metadata": {
    "slideshow": {
     "slide_type": "fragment"
    }
   },
   "outputs": [
    {
     "name": "stdout",
     "output_type": "stream",
     "text": [
      "[ 0.0191488  -0.0122565   0.01730884 -0.03437213]\n"
     ]
    }
   ],
   "source": [
    "observation = env.reset()\n",
    "print(observation)"
   ]
  },
  {
   "cell_type": "code",
   "execution_count": 4,
   "metadata": {
    "slideshow": {
     "slide_type": "fragment"
    }
   },
   "outputs": [
    {
     "name": "stdout",
     "output_type": "stream",
     "text": [
      "0\n"
     ]
    }
   ],
   "source": [
    "action = env.action_space.sample()\n",
    "print(action)"
   ]
  },
  {
   "cell_type": "code",
   "execution_count": 5,
   "metadata": {
    "slideshow": {
     "slide_type": "fragment"
    }
   },
   "outputs": [],
   "source": [
    "for _ in range(100):\n",
    "    action = env.action_space.sample()\n",
    "    observation, reward, done, info = env.step(action)\n",
    "    if done:\n",
    "        break"
   ]
  },
  {
   "cell_type": "markdown",
   "metadata": {
    "slideshow": {
     "slide_type": "slide"
    }
   },
   "source": [
    "![](support/cartpole1.gif)"
   ]
  },
  {
   "cell_type": "code",
   "execution_count": null,
   "metadata": {
    "slideshow": {
     "slide_type": "skip"
    }
   },
   "outputs": [],
   "source": [
    "env = gym.make('FrozenLake-v0')\n",
    "env.reset()\n",
    "env.render()"
   ]
  },
  {
   "cell_type": "markdown",
   "metadata": {
    "slideshow": {
     "slide_type": "slide"
    }
   },
   "source": [
    "https://gym.openai.com/envs/"
   ]
  },
  {
   "cell_type": "markdown",
   "metadata": {
    "slideshow": {
     "slide_type": "slide"
    }
   },
   "source": [
    "## RL Formalization: Markov Decision Process\n",
    "\n",
    "Markov decision process is a 4-tuple $(S,A,P_{a},r_{a})$, where\n",
    "* $S$ : a finite set of states,\n",
    "* $A$ : a finite set of actions\n",
    "* $P_{a}(s,s') = \\Pr(s_{t+1}=s'\\mid s_{t}=s,a_{t}=a)$: probability that action $a$ in state $s$ leads to state $s'$\n",
    "* $r_{a}(s,s')$: the immediate reward received after transitioning from state $s$ to state $s'$, due to action $a$"
   ]
  },
  {
   "cell_type": "markdown",
   "metadata": {
    "slideshow": {
     "slide_type": "slide"
    }
   },
   "source": [
    "![](support/mdp.png)"
   ]
  },
  {
   "cell_type": "markdown",
   "metadata": {
    "slideshow": {
     "slide_type": "slide"
    }
   },
   "source": [
    "![](support/trajectories.png)"
   ]
  },
  {
   "cell_type": "markdown",
   "metadata": {
    "slideshow": {
     "slide_type": "slide"
    }
   },
   "source": [
    "### Defining the Objective\n",
    "\n",
    "Find policy $\\pi(s)$ that maximizes total returns for an episode\n",
    "\n",
    "Define Return **$R_t$** as the sum of discounted rewards\n",
    "\n",
    "$$ R_t = r_t + \\gamma r_{t+1} + \\gamma r_{t+2} + \\gamma r_{t+3} + ... = \\sum_{k=0}^\\infty \\gamma^k r_{t+k}$$\n",
    "\n",
    "Return at t = 0, equals total expected at initial state"
   ]
  },
  {
   "cell_type": "markdown",
   "metadata": {
    "slideshow": {
     "slide_type": "slide"
    }
   },
   "source": [
    "### Solving the MDP\n",
    "\n",
    "If all of $(S,A,P_{a},r_{a})$ are known we can solve the MDP to compute the policy $\\pi(s)$. \n",
    "\n",
    "There are two approaches\n",
    "\n",
    "* **Value Iteration**: Define the value and use dynamic programming or other techniques to solve\n",
    " * Incrementally update value function  \n",
    " \n",
    " $V_{i+1}(s) := \\max_a \\left\\{ \\sum_{s'} P_a(s,s') \\left( r_a(s,s') + \\gamma V_i(s') \\right) \\right\\}$\n",
    " \n",
    "\n",
    "* **Policy Iteration** :\n",
    " *  For each value update incrementally update policy function until convergence\n",
    " \n",
    " $V(s) := \\sum_{s'} P_{\\pi(s)} (s,s') \\left( r_{\\pi(s)} (s,s') + \\gamma V(s') \\right) $\n",
    " \n",
    " $\\pi (s):=argmax_{a}\\left\\{\\sum _{s'}P(s'\\mid s,a)\\left(R(s'\\mid s,a)+\\gamma V(s')\\right)\\right\\}$\n",
    "\n",
    "In Reinforcement Learning, things are not so easy because often we don't know the $P$ and or $r$.\n"
   ]
  },
  {
   "cell_type": "markdown",
   "metadata": {
    "slideshow": {
     "slide_type": "slide"
    }
   },
   "source": [
    "### Reinforcement Learning Approaches\n",
    "\n",
    " * **Model Based**: Learn transition model or dynamics of environment first\n",
    "\n",
    " * **Model Free** : Don't attempt to learn model or dynamics. Learn by exploration.\n",
    "  * Learn **Q function**, generalization of value function. More on this later\n",
    "  * Learn **policy** directly"
   ]
  },
  {
   "cell_type": "markdown",
   "metadata": {
    "slideshow": {
     "slide_type": "slide"
    }
   },
   "source": [
    "### Balancing Exploration and Exploitation\n",
    "\n",
    " * **Greedy**: always take greedy action\t\n",
    "\n",
    " * **$\\epsilon$-greedy** : with probability 𝜖 take random action otherwise take greedy action\n"
   ]
  },
  {
   "cell_type": "markdown",
   "metadata": {
    "slideshow": {
     "slide_type": "slide"
    }
   },
   "source": [
    "## Agents\n",
    "\n",
    "\n",
    "![](support/algorithm_taxonomy.png)"
   ]
  },
  {
   "cell_type": "markdown",
   "metadata": {
    "slideshow": {
     "slide_type": "slide"
    }
   },
   "source": [
    "### Computational Intractability\n",
    "\n",
    "For Games of perfect information like Chess or GO. We know the model (dynamics of the environment).\n",
    "\n",
    "Theoretically, we should be able to compute the optimal value function.\n",
    "\n",
    "Practically, for any non-trivial game the amount moves needed to compute this is roughly $b^d$.\n",
    "\n",
    "For chess: $35^{80}$\n",
    "\n",
    "Number of particles in the universe: $10^{86}$"
   ]
  },
  {
   "cell_type": "markdown",
   "metadata": {
    "slideshow": {
     "slide_type": "slide"
    }
   },
   "source": [
    "### Deep Reinforcement Learning and Function Approximation\n",
    "\n",
    "When state space is large, use Deep Neural Networks to approximate key functions in Reinforcement Learning\n",
    "\n",
    " * **Model Based**:\n",
    "  * Approximate **Value** function and/or **Policy** function with neural net\n",
    "\n",
    " * **Model Free** : \n",
    "  * Q-Learning: Approximate **Q function** with neural network\n",
    "  * Policy Optimization: Approximate **policy** with neural network"
   ]
  },
  {
   "cell_type": "markdown",
   "metadata": {
    "slideshow": {
     "slide_type": "slide"
    }
   },
   "source": [
    "### 'Model' Based Deep RL\n",
    "Examples:\n",
    "* AlphaGo\n",
    "* AlphaGo Zero\n",
    "* AlphaZero\n",
    "\n",
    "Combine Neural Networks for $V$ and $\\pi$ approximation with Neural Networks"
   ]
  },
  {
   "cell_type": "markdown",
   "metadata": {
    "slideshow": {
     "slide_type": "slide"
    }
   },
   "source": [
    "### Model Free Agents\n",
    "\n",
    "* **Q-Learning**: Learn Q function\n",
    " * Learn the value of taking an action from a given state.\n",
    "\t‘Q-Value’ is the expected return after taking the action.\n",
    "    \n",
    "\n",
    "* **Policy Optimization**: Learn policy directly\n",
    " * Learn the action to take from a given state (i.e. observations).\n",
    "\tWe call the model for this the policy, denoted 𝜋_𝜃 (𝑎|𝑠).\n"
   ]
  },
  {
   "cell_type": "markdown",
   "metadata": {
    "slideshow": {
     "slide_type": "slide"
    }
   },
   "source": [
    "### Q-Learning\n",
    "\n",
    "Define Q function:\n",
    "$$ 𝑄^{\\pi}_(s,a) = \\mathtt{E}_{\\pi} [R_t |s,a] $$\n",
    "$$ 𝑄^∗(s,a) = max_{\\pi}⁡ 𝑄^{\\pi} (s,a)$$"
   ]
  },
  {
   "cell_type": "markdown",
   "metadata": {
    "slideshow": {
     "slide_type": "slide"
    }
   },
   "source": [
    "### DQN: Deep Q Network \n",
    "\n",
    "* Approximate Q function with Neural Net\n",
    "* Uses ‘experience replay‘\n",
    "* Uses a ‘target’ network\n",
    "\n",
    "![](support/dqn.png)\n"
   ]
  },
  {
   "cell_type": "markdown",
   "metadata": {
    "slideshow": {
     "slide_type": "slide"
    }
   },
   "source": [
    "### Policy Gradients\n",
    "\n",
    "Objective: $$ J(\\theta) = v_{\\pi_\\theta } (s_0)$$\n",
    "\n",
    "Gradient : $$ \\nabla J(\\theta) = R_t  \\dfrac{\\nabla_{\\pi_\\theta} (a_t│s)}{\\pi_\\theta (a_t│s)} = R_t(\\nabla log{\\pi_\\theta}(a_t│s))$$\n",
    "\n",
    "Gradient ascent: $$ \\theta_{t+1}←\\theta_t + \\alpha \\nabla J(\\theta) $$\n",
    "$$ \\theta_{t+1}←\\theta_t + \\alpha R_t(\\nabla log{\\pi_\\theta}(a_t│s)) $$"
   ]
  },
  {
   "cell_type": "markdown",
   "metadata": {},
   "source": [
    "### Policy Optimization \n",
    "![](support/policy_gradients.png)"
   ]
  },
  {
   "cell_type": "markdown",
   "metadata": {
    "slideshow": {
     "slide_type": "slide"
    }
   },
   "source": [
    "### PPO: Proximal Policy Optimization\n",
    "Relative Improvement:\n",
    "$$r_t (\\theta)= \\dfrac{\\pi_\\theta (a_t |s_t)}{\\pi_{\\theta_{old}} (a_t |s_t)}$$\n",
    "\n",
    "PPO Objective: \n",
    "\n",
    "$$ max_{\\theta}⁡\\mathtt{E}_t [min(r_t (\\theta) A_t, 𝑐𝑙𝑖𝑝(r_t (\\theta), 1−\\epsilon, 1+\\epsilon) 𝐴_t)]$$"
   ]
  },
  {
   "cell_type": "markdown",
   "metadata": {
    "slideshow": {
     "slide_type": "slide"
    }
   },
   "source": [
    "https://nervanasystems.github.io/coach/"
   ]
  },
  {
   "cell_type": "markdown",
   "metadata": {
    "slideshow": {
     "slide_type": "slide"
    }
   },
   "source": [
    "# Train and Deploy with SageMaker RL\n",
    "\n",
    "![](support/sagemaker_rl.png)"
   ]
  },
  {
   "cell_type": "markdown",
   "metadata": {
    "ExecuteTime": {
     "end_time": "2018-06-06T21:56:37.022037Z",
     "start_time": "2018-06-06T21:56:35.507701Z"
    },
    "slideshow": {
     "slide_type": "slide"
    }
   },
   "source": [
    "## Portfolio Management with Amazon SageMaker RL\n",
    "\n",
    "**RL Toolkit** : Coach\n",
    "\n",
    "**DL Framework** : MXNet\n",
    "\n",
    "**RL Environment**: OpenAIGym"
   ]
  },
  {
   "cell_type": "markdown",
   "metadata": {
    "slideshow": {
     "slide_type": "notes"
    }
   },
   "source": [
    "## Problem Statement\n",
    "\n",
    "We start with $m$ preselected stocks. Without loss of generality, the total investment value is set as 1 dollar at the initial timestamp. At timestamp $t$, letting $v_{m,t}$ denote the closing price of stock $m$, the *price relative vector* is defined as \n",
    "$$ y_t = ( 1, \\frac{v_{1,t}}{v_{1,t-1}}, \\frac{v_{2,t}}{v_{2,t-1}}, \\dots, \\frac{v_{m,t}}{v_{m,t-1}} ). $$\n",
    "The first element corresponds to the cash we maintain. The cash value doesn't change along time so it is always 1. During training, the investment redistribution at step $t$ is characterized by the portfolio weight vector $\\mathbf{\\omega} = (\\omega_{0,t}, \\omega_{1,t}, \\dots, \\omega_{m,t})$. \n",
    "\n",
    "1. *Objective:*\n",
    "The portfolio consists of a group of stocks. We aim to maximize the portfolio value by adjusting the weights of each stock and reallocating the portfolio at the end of each day.\n",
    "\n",
    "2. *Environment:*\n",
    "Custom developed environment using Gym.\n",
    "\n",
    "3. *States:*\n",
    "Portfolio weight vector from last trading day $\\omega_{t-1}$. Historic price tensor constructed using close, open, high, low prices of each stock. For more details, please refer to [1].\n",
    "\n",
    "4. *Actions:*\n",
    "New weight vector $\\omega_{t}$ satisfying $\\sum_{i=0}^{m}\\omega_{i,t}=1$.\n",
    "\n",
    "5. *Reward:* \n",
    "Average logarithmic cumulated return. Consider a trading cost factor $\\mu$, the average logarithmic cumulated return after timestamp $T$ is $$ R := \\frac{1}{T} \\sum_{t=1}^{T+1} \\ln(\\mu_{t}y_{t}\\cdot\\omega_{t-1}).$$\n",
    "We use the maximum rate at Poloniex and set $\\mu=0.25\\%$."
   ]
  },
  {
   "cell_type": "markdown",
   "metadata": {
    "slideshow": {
     "slide_type": "slide"
    }
   },
   "source": [
    "## Dataset\n",
    "\n",
    "In this notebook, we use the dataset generated by [Chi Zhang](https://github.com/vermouth1992/drl-portfolio-management/tree/master/src/utils/datasets). It contains the historic price of 16 target stocks from NASDAQ100, including open, close, high and low prices from 2012-08-13 to 2017-08-11. Specifically, those stocks are: “AAPL”, “ATVI”, “CMCSA”, “COST”, “CSX”, “DISH”, “EA”, “EBAY”, “FB”, “GOOGL”, “HAS”, “ILMN”, “INTC”, “MAR”, “REGN” and “SBUX”."
   ]
  },
  {
   "cell_type": "markdown",
   "metadata": {
    "slideshow": {
     "slide_type": "slide"
    }
   },
   "source": [
    "## Prerequisites"
   ]
  },
  {
   "cell_type": "code",
   "execution_count": 9,
   "metadata": {},
   "outputs": [
    {
     "name": "stdout",
     "output_type": "stream",
     "text": [
      "S3 bucket path: s3://sagemaker-us-east-1-412868550678/\n"
     ]
    }
   ],
   "source": [
    "import sagemaker\n",
    "import boto3\n",
    "import sys\n",
    "import os\n",
    "import glob\n",
    "import re\n",
    "import subprocess\n",
    "from IPython.display import HTML\n",
    "import time\n",
    "from time import gmtime, strftime\n",
    "sys.path.append(\"common\")\n",
    "from misc import get_execution_role, wait_for_s3_object\n",
    "from sagemaker.rl import RLEstimator, RLToolkit, RLFramework\n",
    "\n",
    "sage_session = sagemaker.session.Session()\n",
    "s3_bucket = sage_session.default_bucket()  \n",
    "s3_output_path = 's3://{}/'.format(s3_bucket)\n",
    "print(\"S3 bucket path: {}\".format(s3_output_path))\n",
    "job_name_prefix = 'rl-portfolio-management'\n",
    "role = sagemaker.get_execution_role()"
   ]
  },
  {
   "cell_type": "markdown",
   "metadata": {
    "slideshow": {
     "slide_type": "slide"
    }
   },
   "source": [
    "## Environment\n",
    "\n",
    "Custom environment built on Open AI gym"
   ]
  },
  {
   "cell_type": "code",
   "execution_count": 10,
   "metadata": {
    "slideshow": {
     "slide_type": "fragment"
    }
   },
   "outputs": [
    {
     "name": "stdout",
     "output_type": "stream",
     "text": [
      "\u001b[33m\"\"\"\u001b[39;49;00m\r\n",
      "\u001b[33mModified from https://github.com/vermouth1992/drl-portfolio-management/blob/master/src/environment/portfolio.py\u001b[39;49;00m\r\n",
      "\u001b[33m\"\"\"\u001b[39;49;00m\r\n",
      "\u001b[34mimport\u001b[39;49;00m \u001b[04m\u001b[36mgym\u001b[39;49;00m\r\n",
      "\u001b[34mimport\u001b[39;49;00m \u001b[04m\u001b[36mgym.spaces\u001b[39;49;00m\r\n",
      "\u001b[34mfrom\u001b[39;49;00m \u001b[04m\u001b[36mpprint\u001b[39;49;00m \u001b[34mimport\u001b[39;49;00m pprint\r\n",
      "\u001b[34mimport\u001b[39;49;00m \u001b[04m\u001b[36mnumpy\u001b[39;49;00m \u001b[34mas\u001b[39;49;00m \u001b[04m\u001b[36mnp\u001b[39;49;00m\r\n",
      "\u001b[34mfrom\u001b[39;49;00m \u001b[04m\u001b[36mutils\u001b[39;49;00m \u001b[34mimport\u001b[39;49;00m *\r\n",
      "\u001b[34mimport\u001b[39;49;00m \u001b[04m\u001b[36mcsv\u001b[39;49;00m\r\n",
      "\u001b[34mfrom\u001b[39;49;00m \u001b[04m\u001b[36mconfig\u001b[39;49;00m \u001b[34mimport\u001b[39;49;00m *\r\n",
      "\r\n",
      "\r\n",
      "\u001b[34mclass\u001b[39;49;00m \u001b[04m\u001b[32mPortfolioEnv\u001b[39;49;00m(gym.Env):\r\n",
      "    \u001b[33m\"\"\"\u001b[39;49;00m\r\n",
      "\u001b[33m    An environment for financial portfolio management.\u001b[39;49;00m\r\n",
      "\u001b[33m    Financial portfolio management is the process of constant redistribution of a fund into different\u001b[39;49;00m\r\n",
      "\u001b[33m    financial products.\u001b[39;49;00m\r\n",
      "\u001b[33m    Based on [Jiang 2017](https://arxiv.org/abs/1706.10059)\u001b[39;49;00m\r\n",
      "\u001b[33m    \"\"\"\u001b[39;49;00m\r\n",
      "\r\n",
      "    \u001b[34mdef\u001b[39;49;00m \u001b[32m__init__\u001b[39;49;00m(\u001b[36mself\u001b[39;49;00m,\r\n",
      "                 steps=\u001b[34m730\u001b[39;49;00m,  \u001b[37m# 2 years\u001b[39;49;00m\r\n",
      "                 trading_cost=\u001b[34m0.0025\u001b[39;49;00m,\r\n",
      "                 time_cost=\u001b[34m0.00\u001b[39;49;00m,\r\n",
      "                 window_length=\u001b[34m7\u001b[39;49;00m,\r\n",
      "                 start_idx=\u001b[34m0\u001b[39;49;00m,\r\n",
      "                 sample_start_date=\u001b[36mNone\u001b[39;49;00m\r\n",
      "                 ):\r\n",
      "        \u001b[33m\"\"\"\u001b[39;49;00m\r\n",
      "\u001b[33m        An environment for financial portfolio management.\u001b[39;49;00m\r\n",
      "\u001b[33m        Params:\u001b[39;49;00m\r\n",
      "\u001b[33m            steps - steps in episode\u001b[39;49;00m\r\n",
      "\u001b[33m            scale - scale data and each episode (except return)\u001b[39;49;00m\r\n",
      "\u001b[33m            augment - fraction to randomly shift data by\u001b[39;49;00m\r\n",
      "\u001b[33m            trading_cost - cost of trade as a fraction\u001b[39;49;00m\r\n",
      "\u001b[33m            time_cost - cost of holding as a fraction\u001b[39;49;00m\r\n",
      "\u001b[33m            window_length - how many past observations to return\u001b[39;49;00m\r\n",
      "\u001b[33m            start_idx - The number of days from '2012-08-13' of the dataset\u001b[39;49;00m\r\n",
      "\u001b[33m            sample_start_date - The start date sampling from the history\u001b[39;49;00m\r\n",
      "\u001b[33m        \"\"\"\u001b[39;49;00m\r\n",
      "\r\n",
      "        datafile = DATA_DIR\r\n",
      "        history, abbreviation = read_stock_history(filepath=datafile)\r\n",
      "        \u001b[36mself\u001b[39;49;00m.window_length = window_length\r\n",
      "        \u001b[36mself\u001b[39;49;00m.num_stocks = history.shape[\u001b[34m0\u001b[39;49;00m]\r\n",
      "        \u001b[36mself\u001b[39;49;00m.start_idx = start_idx\r\n",
      "        \u001b[36mself\u001b[39;49;00m.csv_file = CSV_DIR\r\n",
      "\r\n",
      "        \u001b[36mself\u001b[39;49;00m.src = DataGenerator(history=history,\r\n",
      "                                 abbreviation=abbreviation,\r\n",
      "                                 steps=steps,\r\n",
      "                                 window_length=window_length,\r\n",
      "                                 start_idx=start_idx,\r\n",
      "                                 start_date=sample_start_date)\r\n",
      "        \u001b[36mself\u001b[39;49;00m.sim = PortfolioSim(\r\n",
      "            asset_names=abbreviation,\r\n",
      "            trading_cost=trading_cost,\r\n",
      "            time_cost=time_cost,\r\n",
      "            steps=steps)\r\n",
      "\r\n",
      "        \u001b[37m# openai gym attributes\u001b[39;49;00m\r\n",
      "        \u001b[37m# action will be the portfolio weights [cash_bias,w1,w2...] where wn are [0, 1] for each asset\u001b[39;49;00m\r\n",
      "        \u001b[36mself\u001b[39;49;00m.action_space = gym.spaces.Box(\r\n",
      "            \u001b[34m0\u001b[39;49;00m, \u001b[34m1\u001b[39;49;00m, shape=(\u001b[36mlen\u001b[39;49;00m(\u001b[36mself\u001b[39;49;00m.src.asset_names) + \u001b[34m1\u001b[39;49;00m,), dtype=np.float32)\r\n",
      "\r\n",
      "        \u001b[37m# get the observation space from the data min and max\u001b[39;49;00m\r\n",
      "        \u001b[36mself\u001b[39;49;00m.observation_space = gym.spaces.Box(low=-np.inf, high=np.inf, shape=(\u001b[36mlen\u001b[39;49;00m(abbreviation), window_length,\r\n",
      "                                                                                 history.shape[-\u001b[34m1\u001b[39;49;00m] - \u001b[34m1\u001b[39;49;00m), dtype=np.float32)\r\n",
      "\r\n",
      "    \u001b[34mdef\u001b[39;49;00m \u001b[32mstep\u001b[39;49;00m(\u001b[36mself\u001b[39;49;00m, action):\r\n",
      "        \u001b[34mreturn\u001b[39;49;00m \u001b[36mself\u001b[39;49;00m._step(action)\r\n",
      "\r\n",
      "    \u001b[34mdef\u001b[39;49;00m \u001b[32m_step\u001b[39;49;00m(\u001b[36mself\u001b[39;49;00m, action):\r\n",
      "        \u001b[33m\"\"\"\u001b[39;49;00m\r\n",
      "\u001b[33m        Step the env.\u001b[39;49;00m\r\n",
      "\u001b[33m        Actions should be portfolio [w0...]\u001b[39;49;00m\r\n",
      "\u001b[33m        - Where wn is a portfolio weight from 0 to 1. The first is cash_bias\u001b[39;49;00m\r\n",
      "\u001b[33m        - cn is the portfolio conversion weights see PortioSim._step for description\u001b[39;49;00m\r\n",
      "\u001b[33m        \"\"\"\u001b[39;49;00m\r\n",
      "        np.testing.assert_almost_equal(\r\n",
      "            action.shape,\r\n",
      "            (\u001b[36mlen\u001b[39;49;00m(\u001b[36mself\u001b[39;49;00m.sim.asset_names) + \u001b[34m1\u001b[39;49;00m,)\r\n",
      "        )\r\n",
      "\r\n",
      "        \u001b[37m# normalise just in case\u001b[39;49;00m\r\n",
      "        weights = np.clip(action, \u001b[34m0\u001b[39;49;00m, \u001b[34m1\u001b[39;49;00m)\r\n",
      "        weights /= (weights.sum() + EPS)\r\n",
      "        weights[\u001b[34m0\u001b[39;49;00m] += np.clip(\u001b[34m1\u001b[39;49;00m - weights.sum(), \u001b[34m0\u001b[39;49;00m, \u001b[34m1\u001b[39;49;00m)  \u001b[37m# so if weights are all zeros we normalise to [1,0...]\u001b[39;49;00m\r\n",
      "\r\n",
      "        \u001b[34massert\u001b[39;49;00m ((action >= \u001b[34m0\u001b[39;49;00m) * (action <= \u001b[34m1\u001b[39;49;00m)).all(), \u001b[33m'\u001b[39;49;00m\u001b[33mall action values should be between 0 and 1. Not \u001b[39;49;00m\u001b[33m%s\u001b[39;49;00m\u001b[33m'\u001b[39;49;00m % action\r\n",
      "        np.testing.assert_almost_equal(\r\n",
      "            np.sum(weights), \u001b[34m1.0\u001b[39;49;00m, \u001b[34m3\u001b[39;49;00m, err_msg=\u001b[33m'\u001b[39;49;00m\u001b[33mweights should sum to 1. action=\u001b[39;49;00m\u001b[33m\"\u001b[39;49;00m\u001b[33m%s\u001b[39;49;00m\u001b[33m\"\u001b[39;49;00m\u001b[33m'\u001b[39;49;00m % weights)\r\n",
      "\r\n",
      "        observation, done1, ground_truth_obs = \u001b[36mself\u001b[39;49;00m.src._step()\r\n",
      "\r\n",
      "        \u001b[37m# concatenate observation with ones\u001b[39;49;00m\r\n",
      "        cash_observation = np.ones((\u001b[34m1\u001b[39;49;00m, \u001b[36mself\u001b[39;49;00m.window_length, observation.shape[\u001b[34m2\u001b[39;49;00m]))\r\n",
      "        observation_concat = np.concatenate((cash_observation, observation), axis=\u001b[34m0\u001b[39;49;00m)\r\n",
      "\r\n",
      "        cash_ground_truth = np.ones((\u001b[34m1\u001b[39;49;00m, \u001b[34m1\u001b[39;49;00m, ground_truth_obs.shape[\u001b[34m2\u001b[39;49;00m]))\r\n",
      "        ground_truth_obs = np.concatenate((cash_ground_truth, ground_truth_obs), axis=\u001b[34m0\u001b[39;49;00m)\r\n",
      "\r\n",
      "        \u001b[37m# relative price vector of last observation day (close/open)\u001b[39;49;00m\r\n",
      "        close_price_vector = observation_concat[:, -\u001b[34m1\u001b[39;49;00m, \u001b[34m3\u001b[39;49;00m]\r\n",
      "        open_price_vector = observation_concat[:, -\u001b[34m1\u001b[39;49;00m, \u001b[34m0\u001b[39;49;00m]\r\n",
      "        y1 = close_price_vector / open_price_vector\r\n",
      "        reward, info, done2 = \u001b[36mself\u001b[39;49;00m.sim._step(weights, y1)\r\n",
      "\r\n",
      "        \u001b[37m# calculate return for buy and hold a bit of each asset\u001b[39;49;00m\r\n",
      "        info[\u001b[33m'\u001b[39;49;00m\u001b[33mmarket_value\u001b[39;49;00m\u001b[33m'\u001b[39;49;00m] = np.cumprod([inf[\u001b[33m\"\u001b[39;49;00m\u001b[33mreturn\u001b[39;49;00m\u001b[33m\"\u001b[39;49;00m] \u001b[34mfor\u001b[39;49;00m inf \u001b[35min\u001b[39;49;00m \u001b[36mself\u001b[39;49;00m.infos + [info]])[-\u001b[34m1\u001b[39;49;00m]\r\n",
      "        \u001b[37m# add dates\u001b[39;49;00m\r\n",
      "        info[\u001b[33m'\u001b[39;49;00m\u001b[33mdate\u001b[39;49;00m\u001b[33m'\u001b[39;49;00m] = index_to_date(\u001b[36mself\u001b[39;49;00m.start_idx + \u001b[36mself\u001b[39;49;00m.src.idx + \u001b[36mself\u001b[39;49;00m.src.step)\r\n",
      "        info[\u001b[33m'\u001b[39;49;00m\u001b[33msteps\u001b[39;49;00m\u001b[33m'\u001b[39;49;00m] = \u001b[36mself\u001b[39;49;00m.src.step\r\n",
      "        info[\u001b[33m'\u001b[39;49;00m\u001b[33mnext_obs\u001b[39;49;00m\u001b[33m'\u001b[39;49;00m] = ground_truth_obs\r\n",
      "\r\n",
      "        \u001b[36mself\u001b[39;49;00m.infos.append(info)\r\n",
      "\r\n",
      "        \u001b[34mif\u001b[39;49;00m done1:\r\n",
      "            \u001b[37m# Save it to file\u001b[39;49;00m\r\n",
      "            keys = \u001b[36mself\u001b[39;49;00m.infos[\u001b[34m0\u001b[39;49;00m].keys()\r\n",
      "            \u001b[34mwith\u001b[39;49;00m \u001b[36mopen\u001b[39;49;00m(\u001b[36mself\u001b[39;49;00m.csv_file, \u001b[33m'\u001b[39;49;00m\u001b[33mw\u001b[39;49;00m\u001b[33m'\u001b[39;49;00m, newline=\u001b[33m'\u001b[39;49;00m\u001b[33m'\u001b[39;49;00m) \u001b[34mas\u001b[39;49;00m f:\r\n",
      "                dict_writer = csv.DictWriter(f, keys)\r\n",
      "                dict_writer.writeheader()\r\n",
      "                dict_writer.writerows(\u001b[36mself\u001b[39;49;00m.infos)\r\n",
      "        \u001b[34mreturn\u001b[39;49;00m observation, reward, done1 \u001b[35mor\u001b[39;49;00m done2, info\r\n",
      "\r\n",
      "    \u001b[34mdef\u001b[39;49;00m \u001b[32mreset\u001b[39;49;00m(\u001b[36mself\u001b[39;49;00m):\r\n",
      "        \u001b[34mreturn\u001b[39;49;00m \u001b[36mself\u001b[39;49;00m._reset()\r\n",
      "\r\n",
      "    \u001b[34mdef\u001b[39;49;00m \u001b[32m_reset\u001b[39;49;00m(\u001b[36mself\u001b[39;49;00m):\r\n",
      "        \u001b[36mself\u001b[39;49;00m.infos = []\r\n",
      "        \u001b[36mself\u001b[39;49;00m.sim.reset()\r\n",
      "        observation, ground_truth_obs = \u001b[36mself\u001b[39;49;00m.src.reset()\r\n",
      "        cash_observation = np.ones((\u001b[34m1\u001b[39;49;00m, \u001b[36mself\u001b[39;49;00m.window_length, observation.shape[\u001b[34m2\u001b[39;49;00m]))\r\n",
      "        observation_concat = np.concatenate((cash_observation, observation), axis=\u001b[34m0\u001b[39;49;00m)\r\n",
      "        cash_ground_truth = np.ones((\u001b[34m1\u001b[39;49;00m, \u001b[34m1\u001b[39;49;00m, ground_truth_obs.shape[\u001b[34m2\u001b[39;49;00m]))\r\n",
      "        ground_truth_obs = np.concatenate((cash_ground_truth, ground_truth_obs), axis=\u001b[34m0\u001b[39;49;00m)\r\n",
      "        info = {}\r\n",
      "        info[\u001b[33m'\u001b[39;49;00m\u001b[33mnext_obs\u001b[39;49;00m\u001b[33m'\u001b[39;49;00m] = ground_truth_obs\r\n",
      "        \u001b[34mreturn\u001b[39;49;00m observation\r\n",
      "\r\n",
      "\r\n",
      "\u001b[34mclass\u001b[39;49;00m \u001b[04m\u001b[32mDataGenerator\u001b[39;49;00m(\u001b[36mobject\u001b[39;49;00m):\r\n",
      "    \u001b[33m\"\"\"Acts as data provider for each new episode.\"\"\"\u001b[39;49;00m\r\n",
      "\r\n",
      "    \u001b[34mdef\u001b[39;49;00m \u001b[32m__init__\u001b[39;49;00m(\u001b[36mself\u001b[39;49;00m, history, abbreviation, steps=\u001b[34m730\u001b[39;49;00m, window_length=\u001b[34m50\u001b[39;49;00m, start_idx=\u001b[34m0\u001b[39;49;00m, start_date=\u001b[36mNone\u001b[39;49;00m):\r\n",
      "        \u001b[33m\"\"\"\u001b[39;49;00m\r\n",
      "\u001b[33m\u001b[39;49;00m\r\n",
      "\u001b[33m        Args:\u001b[39;49;00m\r\n",
      "\u001b[33m            history: (num_stocks, timestamp, 5) open, high, low, close, volume\u001b[39;49;00m\r\n",
      "\u001b[33m            abbreviation: a list of length num_stocks with assets name\u001b[39;49;00m\r\n",
      "\u001b[33m            steps: the total number of steps to simulate, default is 2 years\u001b[39;49;00m\r\n",
      "\u001b[33m            window_length: observation window, must be less than 50\u001b[39;49;00m\r\n",
      "\u001b[33m            start_date: the date to start. Default is None and random pick one.\u001b[39;49;00m\r\n",
      "\u001b[33m                        It should be a string e.g. '2012-08-13'\u001b[39;49;00m\r\n",
      "\u001b[33m        \"\"\"\u001b[39;49;00m\r\n",
      "        \u001b[34massert\u001b[39;49;00m history.shape[\u001b[34m0\u001b[39;49;00m] == \u001b[36mlen\u001b[39;49;00m(abbreviation), \u001b[33m'\u001b[39;49;00m\u001b[33mNumber of stock is not consistent\u001b[39;49;00m\u001b[33m'\u001b[39;49;00m\r\n",
      "        \u001b[34mimport\u001b[39;49;00m \u001b[04m\u001b[36mcopy\u001b[39;49;00m\r\n",
      "\r\n",
      "        \u001b[36mself\u001b[39;49;00m.steps = steps + \u001b[34m1\u001b[39;49;00m\r\n",
      "        \u001b[36mself\u001b[39;49;00m.window_length = window_length\r\n",
      "        \u001b[36mself\u001b[39;49;00m.start_idx = start_idx\r\n",
      "        \u001b[36mself\u001b[39;49;00m.start_date = start_date\r\n",
      "\r\n",
      "        \u001b[37m# make immutable class\u001b[39;49;00m\r\n",
      "        \u001b[36mself\u001b[39;49;00m._data = history.copy()  \u001b[37m# all data\u001b[39;49;00m\r\n",
      "        \u001b[36mself\u001b[39;49;00m.asset_names = copy.copy(abbreviation)\r\n",
      "\r\n",
      "    \u001b[34mdef\u001b[39;49;00m \u001b[32m_step\u001b[39;49;00m(\u001b[36mself\u001b[39;49;00m):\r\n",
      "        \u001b[37m# get price matrix (open, close, high, low) from history.\u001b[39;49;00m\r\n",
      "        \u001b[36mself\u001b[39;49;00m.step += \u001b[34m1\u001b[39;49;00m\r\n",
      "        obs = \u001b[36mself\u001b[39;49;00m.data[:, \u001b[36mself\u001b[39;49;00m.step:\u001b[36mself\u001b[39;49;00m.step + \u001b[36mself\u001b[39;49;00m.window_length, :].copy()\r\n",
      "\r\n",
      "        \u001b[37m# used for compute optimal action and sanity check\u001b[39;49;00m\r\n",
      "        ground_truth_obs = \u001b[36mself\u001b[39;49;00m.data[:, \u001b[36mself\u001b[39;49;00m.step + \u001b[36mself\u001b[39;49;00m.window_length:\u001b[36mself\u001b[39;49;00m.step + \u001b[36mself\u001b[39;49;00m.window_length + \u001b[34m1\u001b[39;49;00m, :].copy()\r\n",
      "\r\n",
      "        done = \u001b[36mself\u001b[39;49;00m.step >= \u001b[36mself\u001b[39;49;00m.steps\r\n",
      "        \u001b[34mreturn\u001b[39;49;00m obs, done, ground_truth_obs\r\n",
      "\r\n",
      "    \u001b[34mdef\u001b[39;49;00m \u001b[32mreset\u001b[39;49;00m(\u001b[36mself\u001b[39;49;00m):\r\n",
      "        \u001b[36mself\u001b[39;49;00m.step = \u001b[34m0\u001b[39;49;00m\r\n",
      "        \u001b[37m# get data for this episode, each episode might be different.\u001b[39;49;00m\r\n",
      "        \u001b[34mif\u001b[39;49;00m \u001b[36mself\u001b[39;49;00m.start_date \u001b[35mis\u001b[39;49;00m \u001b[36mNone\u001b[39;49;00m:\r\n",
      "            \u001b[36mself\u001b[39;49;00m.idx = np.random.randint(\r\n",
      "                low=\u001b[36mself\u001b[39;49;00m.window_length, high=\u001b[36mself\u001b[39;49;00m._data.shape[\u001b[34m1\u001b[39;49;00m] - \u001b[36mself\u001b[39;49;00m.steps)\r\n",
      "        \u001b[34melse\u001b[39;49;00m:\r\n",
      "            \u001b[37m# compute index corresponding to start_date for repeatable sequence\u001b[39;49;00m\r\n",
      "            \u001b[36mself\u001b[39;49;00m.idx = date_to_index(\u001b[36mself\u001b[39;49;00m.start_date) - \u001b[36mself\u001b[39;49;00m.start_idx\r\n",
      "            \u001b[34massert\u001b[39;49;00m \u001b[36mself\u001b[39;49;00m.idx >= \u001b[36mself\u001b[39;49;00m.window_length \u001b[35mand\u001b[39;49;00m \u001b[36mself\u001b[39;49;00m.idx <= \u001b[36mself\u001b[39;49;00m._data.shape[\u001b[34m1\u001b[39;49;00m] - \u001b[36mself\u001b[39;49;00m.steps, \\\r\n",
      "                \u001b[33m'\u001b[39;49;00m\u001b[33mInvalid start date, must be window_length day after start date and simulation steps day before end date\u001b[39;49;00m\u001b[33m'\u001b[39;49;00m\r\n",
      "        data = \u001b[36mself\u001b[39;49;00m._data[:, \u001b[36mself\u001b[39;49;00m.idx - \u001b[36mself\u001b[39;49;00m.window_length:\u001b[36mself\u001b[39;49;00m.idx + \u001b[36mself\u001b[39;49;00m.steps + \u001b[34m1\u001b[39;49;00m, :\u001b[34m4\u001b[39;49;00m]\r\n",
      "        \u001b[36mself\u001b[39;49;00m.data = data\r\n",
      "        \u001b[34mreturn\u001b[39;49;00m \u001b[36mself\u001b[39;49;00m.data[:, \u001b[36mself\u001b[39;49;00m.step:\u001b[36mself\u001b[39;49;00m.step + \u001b[36mself\u001b[39;49;00m.window_length, :].copy(), \\\r\n",
      "               \u001b[36mself\u001b[39;49;00m.data[:, \u001b[36mself\u001b[39;49;00m.step + \u001b[36mself\u001b[39;49;00m.window_length:\u001b[36mself\u001b[39;49;00m.step + \u001b[36mself\u001b[39;49;00m.window_length + \u001b[34m1\u001b[39;49;00m, :].copy()\r\n",
      "\r\n",
      "\r\n",
      "\u001b[34mclass\u001b[39;49;00m \u001b[04m\u001b[32mPortfolioSim\u001b[39;49;00m(\u001b[36mobject\u001b[39;49;00m):\r\n",
      "    \u001b[33m\"\"\"\u001b[39;49;00m\r\n",
      "\u001b[33m    Portfolio management sim.\u001b[39;49;00m\r\n",
      "\u001b[33m    Params:\u001b[39;49;00m\r\n",
      "\u001b[33m    - cost e.g. 0.0025 is max in Poliniex\u001b[39;49;00m\r\n",
      "\u001b[33m    Based of [Jiang 2017](https://arxiv.org/abs/1706.10059)\u001b[39;49;00m\r\n",
      "\u001b[33m    \"\"\"\u001b[39;49;00m\r\n",
      "\r\n",
      "    \u001b[34mdef\u001b[39;49;00m \u001b[32m__init__\u001b[39;49;00m(\u001b[36mself\u001b[39;49;00m, asset_names=\u001b[36mlist\u001b[39;49;00m(), steps=\u001b[34m730\u001b[39;49;00m, trading_cost=\u001b[34m0.0025\u001b[39;49;00m, time_cost=\u001b[34m0.0\u001b[39;49;00m):\r\n",
      "        \u001b[36mself\u001b[39;49;00m.asset_names = asset_names\r\n",
      "        \u001b[36mself\u001b[39;49;00m.cost = trading_cost\r\n",
      "        \u001b[36mself\u001b[39;49;00m.time_cost = time_cost\r\n",
      "        \u001b[36mself\u001b[39;49;00m.steps = steps\r\n",
      "\r\n",
      "    \u001b[34mdef\u001b[39;49;00m \u001b[32m_step\u001b[39;49;00m(\u001b[36mself\u001b[39;49;00m, w1, y1):\r\n",
      "        \u001b[33m\"\"\"\u001b[39;49;00m\r\n",
      "\u001b[33m        Step.\u001b[39;49;00m\r\n",
      "\u001b[33m        w1 - new action of portfolio weights - e.g. [0.1,0.9,0.0]\u001b[39;49;00m\r\n",
      "\u001b[33m        y1 - price relative vector also called return\u001b[39;49;00m\r\n",
      "\u001b[33m            e.g. [1.0, 0.9, 1.1]\u001b[39;49;00m\r\n",
      "\u001b[33m        Numbered equations are from https://arxiv.org/abs/1706.10059\u001b[39;49;00m\r\n",
      "\u001b[33m        \"\"\"\u001b[39;49;00m\r\n",
      "        \u001b[34massert\u001b[39;49;00m w1.shape == y1.shape, \u001b[33m'\u001b[39;49;00m\u001b[33mw1 and y1 must have the same shape\u001b[39;49;00m\u001b[33m'\u001b[39;49;00m\r\n",
      "        \u001b[34massert\u001b[39;49;00m y1[\u001b[34m0\u001b[39;49;00m] == \u001b[34m1.0\u001b[39;49;00m, \u001b[33m'\u001b[39;49;00m\u001b[33my1[0] must be 1\u001b[39;49;00m\u001b[33m'\u001b[39;49;00m\r\n",
      "\r\n",
      "        w0 = \u001b[36mself\u001b[39;49;00m.w0\r\n",
      "        p0 = \u001b[36mself\u001b[39;49;00m.p0\r\n",
      "\r\n",
      "        dw1 = (y1 * w0) / (np.dot(y1, w0) + EPS)  \u001b[37m# (eq7) weights evolve into\u001b[39;49;00m\r\n",
      "        mu1 = \u001b[36mself\u001b[39;49;00m.cost * (np.abs(dw1 - w1)).sum()  \u001b[37m# (eq16) cost to change portfolio\u001b[39;49;00m\r\n",
      "        \u001b[34massert\u001b[39;49;00m mu1 < \u001b[34m1.0\u001b[39;49;00m, \u001b[33m'\u001b[39;49;00m\u001b[33mCost is larger than current holding\u001b[39;49;00m\u001b[33m'\u001b[39;49;00m\r\n",
      "\r\n",
      "        p1 = p0 * (\u001b[34m1\u001b[39;49;00m - mu1) * np.dot(y1, w1)  \u001b[37m# (eq11) final portfolio value\u001b[39;49;00m\r\n",
      "        p1 = p1 * (\u001b[34m1\u001b[39;49;00m - \u001b[36mself\u001b[39;49;00m.time_cost)  \u001b[37m# we can add a cost to holding\u001b[39;49;00m\r\n",
      "        p1 = np.clip(p1, \u001b[34m0\u001b[39;49;00m, np.inf)  \u001b[37m# no shorts\u001b[39;49;00m\r\n",
      "\r\n",
      "        rho1 = p1 / p0 - \u001b[34m1\u001b[39;49;00m  \u001b[37m# rate of returns\u001b[39;49;00m\r\n",
      "        r1 = np.log((p1 + EPS) / (p0 + EPS))  \u001b[37m# log rate of return\u001b[39;49;00m\r\n",
      "        reward = r1 / \u001b[36mself\u001b[39;49;00m.steps * \u001b[34m1000.\u001b[39;49;00m  \u001b[37m# (22) average logarithmic accumulated return\u001b[39;49;00m\r\n",
      "        \u001b[37m# remember for next step\u001b[39;49;00m\r\n",
      "        \u001b[36mself\u001b[39;49;00m.w0 = w1\r\n",
      "        \u001b[36mself\u001b[39;49;00m.p0 = p1\r\n",
      "\r\n",
      "        \u001b[37m# if we run out of money, we're done (losing all the money)\u001b[39;49;00m\r\n",
      "        done = \u001b[36mbool\u001b[39;49;00m(p1 == \u001b[34m0\u001b[39;49;00m)\r\n",
      "\r\n",
      "        info = {\r\n",
      "            \u001b[33m\"\u001b[39;49;00m\u001b[33mreward\u001b[39;49;00m\u001b[33m\"\u001b[39;49;00m: reward,\r\n",
      "            \u001b[33m\"\u001b[39;49;00m\u001b[33mlog_return\u001b[39;49;00m\u001b[33m\"\u001b[39;49;00m: r1,\r\n",
      "            \u001b[33m\"\u001b[39;49;00m\u001b[33mportfolio_value\u001b[39;49;00m\u001b[33m\"\u001b[39;49;00m: p1,\r\n",
      "            \u001b[33m\"\u001b[39;49;00m\u001b[33mreturn\u001b[39;49;00m\u001b[33m\"\u001b[39;49;00m: y1.mean(),\r\n",
      "            \u001b[33m\"\u001b[39;49;00m\u001b[33mrate_of_return\u001b[39;49;00m\u001b[33m\"\u001b[39;49;00m: rho1,\r\n",
      "            \u001b[33m\"\u001b[39;49;00m\u001b[33mweights_mean\u001b[39;49;00m\u001b[33m\"\u001b[39;49;00m: w1.mean(),\r\n",
      "            \u001b[33m\"\u001b[39;49;00m\u001b[33mweights_std\u001b[39;49;00m\u001b[33m\"\u001b[39;49;00m: w1.std(),\r\n",
      "            \u001b[33m\"\u001b[39;49;00m\u001b[33mcost\u001b[39;49;00m\u001b[33m\"\u001b[39;49;00m: mu1,\r\n",
      "        }\r\n",
      "        \u001b[36mself\u001b[39;49;00m.infos.append(info)\r\n",
      "        \u001b[34mreturn\u001b[39;49;00m reward, info, done\r\n",
      "\r\n",
      "    \u001b[34mdef\u001b[39;49;00m \u001b[32mreset\u001b[39;49;00m(\u001b[36mself\u001b[39;49;00m):\r\n",
      "        \u001b[36mself\u001b[39;49;00m.infos = []\r\n",
      "        \u001b[36mself\u001b[39;49;00m.w0 = np.array([\u001b[34m1.0\u001b[39;49;00m] + [\u001b[34m0.0\u001b[39;49;00m] * \u001b[36mlen\u001b[39;49;00m(\u001b[36mself\u001b[39;49;00m.asset_names))\r\n",
      "        \u001b[36mself\u001b[39;49;00m.p0 = \u001b[34m1.0\u001b[39;49;00m\r\n"
     ]
    }
   ],
   "source": [
    "!pygmentize src/portfolio_env.py"
   ]
  },
  {
   "cell_type": "markdown",
   "metadata": {
    "slideshow": {
     "slide_type": "slide"
    }
   },
   "source": [
    "## Agent and Algorithm\n",
    "\n",
    "Clipped PPO Agent with Coach\n"
   ]
  },
  {
   "cell_type": "code",
   "execution_count": 11,
   "metadata": {
    "slideshow": {
     "slide_type": "fragment"
    }
   },
   "outputs": [
    {
     "name": "stdout",
     "output_type": "stream",
     "text": [
      "\u001b[34mfrom\u001b[39;49;00m \u001b[04m\u001b[36mrl_coach.agents.clipped_ppo_agent\u001b[39;49;00m \u001b[34mimport\u001b[39;49;00m ClippedPPOAgentParameters\r\n",
      "\u001b[34mfrom\u001b[39;49;00m \u001b[04m\u001b[36mrl_coach.architectures.layers\u001b[39;49;00m \u001b[34mimport\u001b[39;49;00m Dense, Conv2d\r\n",
      "\u001b[34mfrom\u001b[39;49;00m \u001b[04m\u001b[36mrl_coach.base_parameters\u001b[39;49;00m \u001b[34mimport\u001b[39;49;00m VisualizationParameters, PresetValidationParameters\r\n",
      "\u001b[34mfrom\u001b[39;49;00m \u001b[04m\u001b[36mrl_coach.base_parameters\u001b[39;49;00m \u001b[34mimport\u001b[39;49;00m MiddlewareScheme, DistributedCoachSynchronizationType\r\n",
      "\u001b[34mfrom\u001b[39;49;00m \u001b[04m\u001b[36mrl_coach.core_types\u001b[39;49;00m \u001b[34mimport\u001b[39;49;00m TrainingSteps, EnvironmentEpisodes, EnvironmentSteps, RunPhase\r\n",
      "\u001b[34mfrom\u001b[39;49;00m \u001b[04m\u001b[36mrl_coach.environments.gym_environment\u001b[39;49;00m \u001b[34mimport\u001b[39;49;00m GymVectorEnvironment, ObservationSpaceType\r\n",
      "\u001b[34mfrom\u001b[39;49;00m \u001b[04m\u001b[36mrl_coach.exploration_policies.e_greedy\u001b[39;49;00m \u001b[34mimport\u001b[39;49;00m EGreedyParameters\r\n",
      "\u001b[34mfrom\u001b[39;49;00m \u001b[04m\u001b[36mrl_coach.graph_managers.basic_rl_graph_manager\u001b[39;49;00m \u001b[34mimport\u001b[39;49;00m BasicRLGraphManager\r\n",
      "\u001b[34mfrom\u001b[39;49;00m \u001b[04m\u001b[36mrl_coach.graph_managers.graph_manager\u001b[39;49;00m \u001b[34mimport\u001b[39;49;00m ScheduleParameters\r\n",
      "\u001b[34mfrom\u001b[39;49;00m \u001b[04m\u001b[36mrl_coach.schedules\u001b[39;49;00m \u001b[34mimport\u001b[39;49;00m LinearSchedule\r\n",
      "\r\n",
      "\u001b[37m####################\u001b[39;49;00m\r\n",
      "\u001b[37m# Graph Scheduling #\u001b[39;49;00m\r\n",
      "\u001b[37m####################\u001b[39;49;00m\r\n",
      "\r\n",
      "schedule_params = ScheduleParameters()\r\n",
      "schedule_params.improve_steps = TrainingSteps(\u001b[34m60000\u001b[39;49;00m)\r\n",
      "schedule_params.steps_between_evaluation_periods = EnvironmentSteps(\u001b[34m2048\u001b[39;49;00m)\r\n",
      "schedule_params.evaluation_steps = EnvironmentEpisodes(\u001b[34m5\u001b[39;49;00m)\r\n",
      "schedule_params.heatup_steps = EnvironmentSteps(\u001b[34m0\u001b[39;49;00m)\r\n",
      "\r\n",
      "\u001b[37m#########\u001b[39;49;00m\r\n",
      "\u001b[37m# Agent #\u001b[39;49;00m\r\n",
      "\u001b[37m#########\u001b[39;49;00m\r\n",
      "\r\n",
      "agent_params = ClippedPPOAgentParameters()\r\n",
      "\r\n",
      "agent_params.network_wrappers[\u001b[33m'\u001b[39;49;00m\u001b[33mmain\u001b[39;49;00m\u001b[33m'\u001b[39;49;00m].learning_rate = \u001b[34m0.0001\u001b[39;49;00m\r\n",
      "agent_params.network_wrappers[\u001b[33m'\u001b[39;49;00m\u001b[33mmain\u001b[39;49;00m\u001b[33m'\u001b[39;49;00m].input_embedders_parameters[\u001b[33m'\u001b[39;49;00m\u001b[33mobservation\u001b[39;49;00m\u001b[33m'\u001b[39;49;00m].scheme = [Conv2d(\u001b[34m32\u001b[39;49;00m, [\u001b[34m1\u001b[39;49;00m, \u001b[34m3\u001b[39;49;00m], \u001b[34m1\u001b[39;49;00m)]\r\n",
      "agent_params.network_wrappers[\u001b[33m'\u001b[39;49;00m\u001b[33mmain\u001b[39;49;00m\u001b[33m'\u001b[39;49;00m].middleware_parameters.scheme = MiddlewareScheme.Empty\r\n",
      "agent_params.network_wrappers[\u001b[33m'\u001b[39;49;00m\u001b[33mmain\u001b[39;49;00m\u001b[33m'\u001b[39;49;00m].batch_size = \u001b[34m64\u001b[39;49;00m\r\n",
      "agent_params.algorithm.clipping_decay_schedule = LinearSchedule(\u001b[34m1.0\u001b[39;49;00m, \u001b[34m0\u001b[39;49;00m, \u001b[34m150000\u001b[39;49;00m)\r\n",
      "agent_params.algorithm.discount = \u001b[34m0.99\u001b[39;49;00m\r\n",
      "agent_params.algorithm.num_steps_between_copying_online_weights_to_target = EnvironmentSteps(\u001b[34m2048\u001b[39;49;00m)\r\n",
      "\r\n",
      "\u001b[37m# Distributed Coach synchronization type.\u001b[39;49;00m\r\n",
      "agent_params.algorithm.distributed_coach_synchronization_type = DistributedCoachSynchronizationType.SYNC\r\n",
      "\r\n",
      "agent_params.exploration = EGreedyParameters()\r\n",
      "agent_params.exploration.epsilon_schedule = LinearSchedule(\u001b[34m1.0\u001b[39;49;00m, \u001b[34m0.01\u001b[39;49;00m, \u001b[34m10000\u001b[39;49;00m)\r\n",
      "\r\n",
      "\u001b[37m###############\u001b[39;49;00m\r\n",
      "\u001b[37m# Environment #\u001b[39;49;00m\r\n",
      "\u001b[37m###############\u001b[39;49;00m\r\n",
      "\r\n",
      "env_params = GymVectorEnvironment(level=\u001b[33m'\u001b[39;49;00m\u001b[33mportfolio_env:PortfolioEnv\u001b[39;49;00m\u001b[33m'\u001b[39;49;00m)\r\n",
      "env_params.\u001b[31m__dict__\u001b[39;49;00m[\u001b[33m'\u001b[39;49;00m\u001b[33mobservation_space_type\u001b[39;49;00m\u001b[33m'\u001b[39;49;00m] = ObservationSpaceType.Tensor\r\n",
      "\r\n",
      "\u001b[37m########\u001b[39;49;00m\r\n",
      "\u001b[37m# Test #\u001b[39;49;00m\r\n",
      "\u001b[37m########\u001b[39;49;00m\r\n",
      "\r\n",
      "preset_validation_params = PresetValidationParameters()\r\n",
      "preset_validation_params.test = \u001b[36mTrue\u001b[39;49;00m\r\n",
      "\r\n",
      "graph_manager = BasicRLGraphManager(agent_params=agent_params, env_params=env_params,\r\n",
      "                                    schedule_params=schedule_params, vis_params=VisualizationParameters(),\r\n",
      "                                    preset_validation_params=preset_validation_params)\r\n"
     ]
    }
   ],
   "source": [
    "!pygmentize src/preset-portfolio-management-clippedppo.py"
   ]
  },
  {
   "cell_type": "markdown",
   "metadata": {
    "slideshow": {
     "slide_type": "slide"
    }
   },
   "source": [
    "## Training Code\n",
    "\n",
    "SageMakerRL prebuilt functions to training coach agents"
   ]
  },
  {
   "cell_type": "code",
   "execution_count": 12,
   "metadata": {
    "slideshow": {
     "slide_type": "subslide"
    }
   },
   "outputs": [
    {
     "name": "stdout",
     "output_type": "stream",
     "text": [
      "\u001b[34mfrom\u001b[39;49;00m \u001b[04m\u001b[36msagemaker_rl.coach_launcher\u001b[39;49;00m \u001b[34mimport\u001b[39;49;00m SageMakerCoachPresetLauncher\r\n",
      "\r\n",
      "\r\n",
      "\u001b[34mclass\u001b[39;49;00m \u001b[04m\u001b[32mMyLauncher\u001b[39;49;00m(SageMakerCoachPresetLauncher):\r\n",
      "\r\n",
      "    \u001b[34mdef\u001b[39;49;00m \u001b[32mdefault_preset_name\u001b[39;49;00m(\u001b[36mself\u001b[39;49;00m):\r\n",
      "        \u001b[33m\"\"\"This points to a .py file that configures everything about the RL job.\u001b[39;49;00m\r\n",
      "\u001b[33m        It can be overridden at runtime by specifying the RLCOACH_PRESET hyperparameter.\u001b[39;49;00m\r\n",
      "\u001b[33m        \"\"\"\u001b[39;49;00m\r\n",
      "        \u001b[34mreturn\u001b[39;49;00m \u001b[33m'\u001b[39;49;00m\u001b[33mpreset-portfolio-management-clippedppo\u001b[39;49;00m\u001b[33m'\u001b[39;49;00m\r\n",
      "\r\n",
      "    \u001b[34mdef\u001b[39;49;00m \u001b[32mmap_hyperparameter\u001b[39;49;00m(\u001b[36mself\u001b[39;49;00m, name, value):\r\n",
      "        \u001b[33m\"\"\"Here we configure some shortcut names for hyperparameters that we expect to use frequently.\u001b[39;49;00m\r\n",
      "\u001b[33m        Essentially anything in the preset file can be overridden through a hyperparameter with a name\u001b[39;49;00m\r\n",
      "\u001b[33m        like \"rl.agent_params.algorithm.etc\".\u001b[39;49;00m\r\n",
      "\u001b[33m        \"\"\"\u001b[39;49;00m\r\n",
      "        \u001b[37m# maps from alias (key) to fully qualified coach parameter (value)\u001b[39;49;00m\r\n",
      "        mapping = {\r\n",
      "            \u001b[33m\"\u001b[39;49;00m\u001b[33mdiscount\u001b[39;49;00m\u001b[33m\"\u001b[39;49;00m: \u001b[33m\"\u001b[39;49;00m\u001b[33mrl.agent_params.algorithm.discount\u001b[39;49;00m\u001b[33m\"\u001b[39;49;00m,\r\n",
      "            \u001b[33m\"\u001b[39;49;00m\u001b[33mevaluation_episodes\u001b[39;49;00m\u001b[33m\"\u001b[39;49;00m: \u001b[33m\"\u001b[39;49;00m\u001b[33mrl.evaluation_steps:EnvironmentEpisodes\u001b[39;49;00m\u001b[33m\"\u001b[39;49;00m,\r\n",
      "            \u001b[33m\"\u001b[39;49;00m\u001b[33mimprove_steps\u001b[39;49;00m\u001b[33m\"\u001b[39;49;00m: \u001b[33m\"\u001b[39;49;00m\u001b[33mrl.improve_steps:TrainingSteps\u001b[39;49;00m\u001b[33m\"\u001b[39;49;00m\r\n",
      "        }\r\n",
      "        \u001b[34mif\u001b[39;49;00m name \u001b[35min\u001b[39;49;00m mapping:\r\n",
      "            \u001b[36mself\u001b[39;49;00m.apply_hyperparameter(mapping[name], value)\r\n",
      "        \u001b[34melse\u001b[39;49;00m:\r\n",
      "            \u001b[36msuper\u001b[39;49;00m().map_hyperparameter(name, value)\r\n",
      "\r\n",
      "\u001b[34mif\u001b[39;49;00m \u001b[31m__name__\u001b[39;49;00m == \u001b[33m'\u001b[39;49;00m\u001b[33m__main__\u001b[39;49;00m\u001b[33m'\u001b[39;49;00m:\r\n",
      "    MyLauncher.train_main()\r\n"
     ]
    }
   ],
   "source": [
    "!pygmentize src/train-coach.py"
   ]
  },
  {
   "cell_type": "markdown",
   "metadata": {
    "slideshow": {
     "slide_type": "slide"
    }
   },
   "source": [
    "## Model Training\n",
    "Create SageMaker RL Estimator"
   ]
  },
  {
   "cell_type": "code",
   "execution_count": null,
   "metadata": {
    "slideshow": {
     "slide_type": "fragment"
    }
   },
   "outputs": [
    {
     "name": "stdout",
     "output_type": "stream",
     "text": [
      "2019-06-12 21:36:04 Starting - Starting the training job...\n",
      "2019-06-12 21:36:05 Starting - Launching requested ML instances......\n",
      "2019-06-12 21:37:14 Starting - Preparing the instances for training......\n",
      "2019-06-12 21:38:35 Downloading - Downloading input data\n",
      "2019-06-12 21:38:35 Training - Training image download completed. Training in progress..\n",
      "\u001b[31mbash: cannot set terminal process group (-1): Inappropriate ioctl for device\u001b[0m\n",
      "\u001b[31mbash: no job control in this shell\u001b[0m\n",
      "\u001b[31m2019-06-12 21:38:36,849 sagemaker-containers INFO     Imported framework sagemaker_mxnet_container.training\u001b[0m\n",
      "\u001b[31m2019-06-12 21:38:36,852 sagemaker-containers INFO     No GPUs detected (normal if no gpus installed)\u001b[0m\n",
      "\u001b[31m2019-06-12 21:38:36,867 sagemaker_mxnet_container.training INFO     MXNet training environment: {'SM_MODEL_DIR': '/opt/ml/model', 'SM_HPS': '{\"RLCOACH_PRESET\":\"preset-portfolio-management-clippedppo\",\"rl.agent_params.algorithm.discount\":0.9,\"rl.evaluation_steps:EnvironmentEpisodes\":5}', 'SM_NUM_GPUS': '0', 'SM_FRAMEWORK_PARAMS': '{\"sagemaker_estimator\":\"RLEstimator\"}', 'SM_HP_RLCOACH_PRESET': 'preset-portfolio-management-clippedppo', 'SM_TRAINING_ENV': '{\"additional_framework_parameters\":{\"sagemaker_estimator\":\"RLEstimator\"},\"channel_input_dirs\":{},\"current_host\":\"algo-1\",\"framework_module\":\"sagemaker_mxnet_container.training:main\",\"hosts\":[\"algo-1\"],\"hyperparameters\":{\"RLCOACH_PRESET\":\"preset-portfolio-management-clippedppo\",\"rl.agent_params.algorithm.discount\":0.9,\"rl.evaluation_steps:EnvironmentEpisodes\":5},\"input_config_dir\":\"/opt/ml/input/config\",\"input_data_config\":{},\"input_dir\":\"/opt/ml/input\",\"job_name\":\"rl-portfolio-management-2019-06-12-21-36-03-778\",\"log_level\":20,\"model_dir\":\"/opt/ml/model\",\"module_dir\":\"s3://sagemaker-us-east-1-412868550678/rl-portfolio-management-2019-06-12-21-36-03-778/source/sourcedir.tar.gz\",\"module_name\":\"train-coach\",\"network_interface_name\":\"ethwe\",\"num_cpus\":16,\"num_gpus\":0,\"output_data_dir\":\"/opt/ml/output/data\",\"output_dir\":\"/opt/ml/output\",\"output_intermediate_dir\":\"/opt/ml/output/intermediate\",\"resource_config\":{\"current_host\":\"algo-1\",\"hosts\":[\"algo-1\"],\"network_interface_name\":\"ethwe\"},\"user_entry_point\":\"train-coach.py\"}', 'SM_MODULE_NAME': 'train-coach', 'SM_HP_RL.AGENT_PARAMS.ALGORITHM.DISCOUNT': '0.9', 'SM_USER_ARGS': '[\"--RLCOACH_PRESET\",\"preset-portfolio-management-clippedppo\",\"--rl.agent_params.algorithm.discount\",\"0.9\",\"--rl.evaluation_steps:EnvironmentEpisodes\",\"5\"]', 'SM_OUTPUT_DIR': '/opt/ml/output', 'SM_LOG_LEVEL': '20', 'SM_RESOURCE_CONFIG': '{\"current_host\":\"algo-1\",\"hosts\":[\"algo-1\"],\"network_interface_name\":\"ethwe\"}', 'SM_INPUT_DIR': '/opt/ml/input', 'SM_OUTPUT_DATA_DIR': '/opt/ml/output/data', 'SM_CHANNELS': '[]', 'SM_NUM_CPUS': '16', 'SM_INPUT_DATA_CONFIG': '{}', 'SM_HOSTS': '[\"algo-1\"]', 'SM_FRAMEWORK_MODULE': 'sagemaker_mxnet_container.training:main', 'SM_NETWORK_INTERFACE_NAME': 'ethwe', 'SM_HP_RL.EVALUATION_STEPS:ENVIRONMENTEPISODES': '5', 'SM_INPUT_CONFIG_DIR': '/opt/ml/input/config', 'SM_OUTPUT_INTERMEDIATE_DIR': '/opt/ml/output/intermediate', 'SM_USER_ENTRY_POINT': 'train-coach.py', 'SM_CURRENT_HOST': 'algo-1', 'SM_MODULE_DIR': 's3://sagemaker-us-east-1-412868550678/rl-portfolio-management-2019-06-12-21-36-03-778/source/sourcedir.tar.gz'}\u001b[0m\n",
      "\u001b[31m2019-06-12 21:38:37,012 sagemaker-containers INFO     Module train-coach does not provide a setup.py. \u001b[0m\n",
      "\u001b[31mGenerating setup.py\u001b[0m\n",
      "\u001b[31m2019-06-12 21:38:37,013 sagemaker-containers INFO     Generating setup.cfg\u001b[0m\n",
      "\u001b[31m2019-06-12 21:38:37,013 sagemaker-containers INFO     Generating MANIFEST.in\u001b[0m\n",
      "\u001b[31m2019-06-12 21:38:37,013 sagemaker-containers INFO     Installing module with the following command:\u001b[0m\n",
      "\u001b[31m/usr/bin/python -m pip install -U . \u001b[0m\n",
      "\u001b[31mProcessing /opt/ml/code\u001b[0m\n",
      "\u001b[31mBuilding wheels for collected packages: train-coach\n",
      "  Running setup.py bdist_wheel for train-coach: started\u001b[0m\n",
      "\u001b[31m  Running setup.py bdist_wheel for train-coach: finished with status 'done'\n",
      "  Stored in directory: /tmp/pip-ephem-wheel-cache-vw1nopnh/wheels/35/24/16/37574d11bf9bde50616c67372a334f94fa8356bc7164af8ca3\u001b[0m\n",
      "\u001b[31mSuccessfully built train-coach\u001b[0m\n",
      "\u001b[31mInstalling collected packages: train-coach\u001b[0m\n",
      "\u001b[31mSuccessfully installed train-coach-1.0.0\u001b[0m\n",
      "\u001b[31mYou are using pip version 18.1, however version 19.1.1 is available.\u001b[0m\n",
      "\u001b[31mYou should consider upgrading via the 'pip install --upgrade pip' command.\u001b[0m\n",
      "\u001b[31m2019-06-12 21:38:38,791 sagemaker-containers INFO     No GPUs detected (normal if no gpus installed)\u001b[0m\n",
      "\u001b[31m2019-06-12 21:38:38,805 sagemaker-containers INFO     Invoking user script\n",
      "\u001b[0m\n",
      "\u001b[31mTraining Env:\n",
      "\u001b[0m\n",
      "\u001b[31m{\n",
      "    \"num_cpus\": 16,\n",
      "    \"output_data_dir\": \"/opt/ml/output/data\",\n",
      "    \"network_interface_name\": \"ethwe\",\n",
      "    \"module_dir\": \"s3://sagemaker-us-east-1-412868550678/rl-portfolio-management-2019-06-12-21-36-03-778/source/sourcedir.tar.gz\",\n",
      "    \"hosts\": [\n",
      "        \"algo-1\"\n",
      "    ],\n",
      "    \"hyperparameters\": {\n",
      "        \"rl.agent_params.algorithm.discount\": 0.9,\n",
      "        \"RLCOACH_PRESET\": \"preset-portfolio-management-clippedppo\",\n",
      "        \"rl.evaluation_steps:EnvironmentEpisodes\": 5\n",
      "    },\n",
      "    \"additional_framework_parameters\": {\n",
      "        \"sagemaker_estimator\": \"RLEstimator\"\n",
      "    },\n",
      "    \"model_dir\": \"/opt/ml/model\",\n",
      "    \"channel_input_dirs\": {},\n",
      "    \"log_level\": 20,\n",
      "    \"current_host\": \"algo-1\",\n",
      "    \"input_data_config\": {},\n",
      "    \"job_name\": \"rl-portfolio-management-2019-06-12-21-36-03-778\",\n",
      "    \"user_entry_point\": \"train-coach.py\",\n",
      "    \"module_name\": \"train-coach\",\n",
      "    \"framework_module\": \"sagemaker_mxnet_container.training:main\",\n",
      "    \"output_dir\": \"/opt/ml/output\",\n",
      "    \"output_intermediate_dir\": \"/opt/ml/output/intermediate\",\n",
      "    \"num_gpus\": 0,\n",
      "    \"resource_config\": {\n",
      "        \"current_host\": \"algo-1\",\n",
      "        \"hosts\": [\n",
      "            \"algo-1\"\n",
      "        ],\n",
      "        \"network_interface_name\": \"ethwe\"\n",
      "    },\n",
      "    \"input_dir\": \"/opt/ml/input\",\n",
      "    \"input_config_dir\": \"/opt/ml/input/config\"\u001b[0m\n",
      "\u001b[31m}\n",
      "\u001b[0m\n",
      "\u001b[31mEnvironment variables:\n",
      "\u001b[0m\n",
      "\u001b[31mSM_MODULE_NAME=train-coach\u001b[0m\n",
      "\u001b[31mSM_HPS={\"RLCOACH_PRESET\":\"preset-portfolio-management-clippedppo\",\"rl.agent_params.algorithm.discount\":0.9,\"rl.evaluation_steps:EnvironmentEpisodes\":5}\u001b[0m\n",
      "\u001b[31mSM_NUM_GPUS=0\u001b[0m\n",
      "\u001b[31mSM_FRAMEWORK_PARAMS={\"sagemaker_estimator\":\"RLEstimator\"}\u001b[0m\n",
      "\u001b[31mSM_HP_RLCOACH_PRESET=preset-portfolio-management-clippedppo\u001b[0m\n",
      "\u001b[31mSM_TRAINING_ENV={\"additional_framework_parameters\":{\"sagemaker_estimator\":\"RLEstimator\"},\"channel_input_dirs\":{},\"current_host\":\"algo-1\",\"framework_module\":\"sagemaker_mxnet_container.training:main\",\"hosts\":[\"algo-1\"],\"hyperparameters\":{\"RLCOACH_PRESET\":\"preset-portfolio-management-clippedppo\",\"rl.agent_params.algorithm.discount\":0.9,\"rl.evaluation_steps:EnvironmentEpisodes\":5},\"input_config_dir\":\"/opt/ml/input/config\",\"input_data_config\":{},\"input_dir\":\"/opt/ml/input\",\"job_name\":\"rl-portfolio-management-2019-06-12-21-36-03-778\",\"log_level\":20,\"model_dir\":\"/opt/ml/model\",\"module_dir\":\"s3://sagemaker-us-east-1-412868550678/rl-portfolio-management-2019-06-12-21-36-03-778/source/sourcedir.tar.gz\",\"module_name\":\"train-coach\",\"network_interface_name\":\"ethwe\",\"num_cpus\":16,\"num_gpus\":0,\"output_data_dir\":\"/opt/ml/output/data\",\"output_dir\":\"/opt/ml/output\",\"output_intermediate_dir\":\"/opt/ml/output/intermediate\",\"resource_config\":{\"current_host\":\"algo-1\",\"hosts\":[\"algo-1\"],\"network_interface_name\":\"ethwe\"},\"user_entry_point\":\"train-coach.py\"}\u001b[0m\n",
      "\u001b[31mSM_MODEL_DIR=/opt/ml/model\u001b[0m\n",
      "\u001b[31mSM_HP_RL.AGENT_PARAMS.ALGORITHM.DISCOUNT=0.9\u001b[0m\n",
      "\u001b[31mSM_USER_ARGS=[\"--RLCOACH_PRESET\",\"preset-portfolio-management-clippedppo\",\"--rl.agent_params.algorithm.discount\",\"0.9\",\"--rl.evaluation_steps:EnvironmentEpisodes\",\"5\"]\u001b[0m\n",
      "\u001b[31mSM_OUTPUT_DIR=/opt/ml/output\u001b[0m\n",
      "\u001b[31mSM_LOG_LEVEL=20\u001b[0m\n",
      "\u001b[31mPYTHONPATH=/usr/local/bin:/usr/lib/python35.zip:/usr/lib/python3.5:/usr/lib/python3.5/plat-x86_64-linux-gnu:/usr/lib/python3.5/lib-dynload:/usr/local/lib/python3.5/dist-packages:/usr/lib/python3/dist-packages\u001b[0m\n",
      "\u001b[31mSM_RESOURCE_CONFIG={\"current_host\":\"algo-1\",\"hosts\":[\"algo-1\"],\"network_interface_name\":\"ethwe\"}\u001b[0m\n",
      "\u001b[31mSM_INPUT_DIR=/opt/ml/input\u001b[0m\n",
      "\u001b[31mSM_OUTPUT_DATA_DIR=/opt/ml/output/data\u001b[0m\n",
      "\u001b[31mSM_CHANNELS=[]\u001b[0m\n",
      "\u001b[31mSM_NUM_CPUS=16\u001b[0m\n",
      "\u001b[31mSM_INPUT_DATA_CONFIG={}\u001b[0m\n",
      "\u001b[31mSM_USER_ENTRY_POINT=train-coach.py\u001b[0m\n",
      "\u001b[31mSM_HOSTS=[\"algo-1\"]\u001b[0m\n",
      "\u001b[31mSM_FRAMEWORK_MODULE=sagemaker_mxnet_container.training:main\u001b[0m\n",
      "\u001b[31mSM_NETWORK_INTERFACE_NAME=ethwe\u001b[0m\n",
      "\u001b[31mSM_INPUT_CONFIG_DIR=/opt/ml/input/config\u001b[0m\n",
      "\u001b[31mSM_OUTPUT_INTERMEDIATE_DIR=/opt/ml/output/intermediate\u001b[0m\n",
      "\u001b[31mSM_HP_RL.EVALUATION_STEPS:ENVIRONMENTEPISODES=5\u001b[0m\n",
      "\u001b[31mSM_CURRENT_HOST=algo-1\u001b[0m\n",
      "\u001b[31mSM_MODULE_DIR=s3://sagemaker-us-east-1-412868550678/rl-portfolio-management-2019-06-12-21-36-03-778/source/sourcedir.tar.gz\n",
      "\u001b[0m\n",
      "\u001b[31mInvoking script with the following command:\n",
      "\u001b[0m\n",
      "\u001b[31m/usr/bin/python -m train-coach --RLCOACH_PRESET preset-portfolio-management-clippedppo --rl.agent_params.algorithm.discount 0.9 --rl.evaluation_steps:EnvironmentEpisodes 5\n",
      "\n",
      "\u001b[0m\n"
     ]
    },
    {
     "name": "stdout",
     "output_type": "stream",
     "text": [
      "\u001b[31m#033[93mWarning: failed to import the following packages - tensorflow#033[0m\u001b[0m\n",
      "\u001b[31mApplying RL hyperparameter rl.agent_params.algorithm.discount=0.9\u001b[0m\n",
      "\u001b[31mApplying RL hyperparameter rl.evaluation_steps:EnvironmentEpisodes=5\u001b[0m\n",
      "\u001b[31mLoading preset preset-portfolio-management-clippedppo from /opt/ml/code\u001b[0m\n",
      "\u001b[31m## Creating graph - name: BasicRLGraphManager\u001b[0m\n",
      "\u001b[31m/usr/local/lib/python3.5/dist-packages/gym/envs/registration.py:14: PkgResourcesDeprecationWarning: Parameters to load are deprecated.  Call .resolve and .require separately.\n",
      "  result = entry_point.load(False)\u001b[0m\n",
      "\u001b[31m## Creating agent - name: agent\u001b[0m\n",
      "\u001b[31mRequested devices [gpu(0)] not available. Default to CPU context.\u001b[0m\n",
      "\u001b[31mRequested devices [gpu(0)] not available. Default to CPU context.\u001b[0m\n",
      "\u001b[31m/usr/local/lib/python3.5/dist-packages/mxnet/gluon/block.py:303: UserWarning: \"PPOHead._loss\" is an unregistered container with Blocks. Note that Blocks inside the list, tuple or dict will not be registered automatically. Make sure to register them using register_child() or switching to nn.Sequential/nn.HybridSequential instead. \n",
      "  ret.update(cld.collect_params(select=select))\u001b[0m\n",
      "\u001b[31m/usr/local/lib/python3.5/dist-packages/mxnet/gluon/block.py:303: UserWarning: \"PPOHead._loss\" is an unregistered container with Blocks. Note that Blocks inside the list, tuple or dict will not be registered automatically. Make sure to register them using register_child() or switching to nn.Sequential/nn.HybridSequential instead. \n",
      "  ret.update(cld.collect_params(select=select))\u001b[0m\n",
      "\u001b[31m/usr/local/lib/python3.5/dist-packages/mxnet/gluon/block.py:303: UserWarning: \"PPOHead._loss\" is an unregistered container with Blocks. Note that Blocks inside the list, tuple or dict will not be registered automatically. Make sure to register them using register_child() or switching to nn.Sequential/nn.HybridSequential instead. \n",
      "  ret.update(cld.collect_params(select=select))\u001b[0m\n",
      "\u001b[31m## Starting to improve simple_rl_graph task index 0\u001b[0m\n",
      "\u001b[31mTraining> Name=main_level/agent, Worker=0, Episode=1, Total reward=-1.6, Steps=731, Training iteration=0\u001b[0m\n",
      "\u001b[31mTraining> Name=main_level/agent, Worker=0, Episode=2, Total reward=-1.63, Steps=1462, Training iteration=0\u001b[0m\n",
      "\u001b[31m## agent: Starting evaluation phase\u001b[0m\n",
      "\u001b[31mTesting> Name=main_level/agent, Worker=0, Episode=2, Total reward=-3.11, Steps=2048, Training iteration=0\u001b[0m\n",
      "\u001b[31mTesting> Name=main_level/agent, Worker=0, Episode=2, Total reward=-3.45, Steps=2048, Training iteration=0\u001b[0m\n",
      "\u001b[31mTesting> Name=main_level/agent, Worker=0, Episode=2, Total reward=-3.35, Steps=2048, Training iteration=0\u001b[0m\n",
      "\u001b[31mTesting> Name=main_level/agent, Worker=0, Episode=2, Total reward=-3.04, Steps=2048, Training iteration=0\u001b[0m\n",
      "\u001b[31mTesting> Name=main_level/agent, Worker=0, Episode=2, Total reward=-3.35, Steps=2048, Training iteration=0\u001b[0m\n",
      "\u001b[31m## agent: Finished evaluation phase. Success rate = 0.0, Avg Total Reward = -3.26\u001b[0m\n",
      "\u001b[31mCheckpoint> Saving in path=['/opt/ml/output/data/checkpoint/0_Step-2049.ckpt.main_level.agent.main.online']\u001b[0m\n",
      "\u001b[31mTraining> Name=main_level/agent, Worker=0, Episode=3, Total reward=-2.04, Steps=2779, Training iteration=0\u001b[0m\n",
      "\u001b[31m/usr/local/lib/python3.5/dist-packages/rl_coach/architectures/mxnet_components/heads/head.py:95: UserWarning: Parameter clippedppolosscontinuous0_kl_coefficient is not used by any computation. Is this intended?\n",
      "  outputs = super(HeadLoss, self).forward(*args)\u001b[0m\n",
      "\u001b[31mPolicy training> Surrogate loss=-0.011369742453098297, KL divergence=[0.], Entropy=[-0.2412446], training epoch=0, learning_rate=0.0001\u001b[0m\n",
      "\u001b[31mPolicy training> Surrogate loss=-0.042911920696496964, KL divergence=[0.], Entropy=[-0.24129401], training epoch=1, learning_rate=0.0001\u001b[0m\n",
      "\u001b[31mPolicy training> Surrogate loss=-0.04591741785407066, KL divergence=[0.], Entropy=[-0.24133375], training epoch=2, learning_rate=0.0001\u001b[0m\n",
      "\u001b[31mPolicy training> Surrogate loss=-0.05583664029836655, KL divergence=[0.], Entropy=[-0.24136254], training epoch=3, learning_rate=0.0001\u001b[0m\n",
      "\u001b[31mPolicy training> Surrogate loss=-0.05628142133355141, KL divergence=[0.], Entropy=[-0.2413969], training epoch=4, learning_rate=0.0001\u001b[0m\n",
      "\u001b[31mPolicy training> Surrogate loss=-0.05722259357571602, KL divergence=[0.], Entropy=[-0.24143589], training epoch=5, learning_rate=0.0001\u001b[0m\n",
      "\u001b[31mPolicy training> Surrogate loss=-0.05189281702041626, KL divergence=[0.], Entropy=[-0.24150014], training epoch=6, learning_rate=0.0001\u001b[0m\n",
      "\u001b[31mPolicy training> Surrogate loss=-0.06456755101680756, KL divergence=[0.], Entropy=[-0.24152759], training epoch=7, learning_rate=0.0001\u001b[0m\n",
      "\u001b[31mPolicy training> Surrogate loss=-0.06572694331407547, KL divergence=[0.], Entropy=[-0.24154143], training epoch=8, learning_rate=0.0001\u001b[0m\n",
      "\u001b[31mPolicy training> Surrogate loss=-0.06775469332933426, KL divergence=[0.], Entropy=[-0.24156532], training epoch=9, learning_rate=0.0001\u001b[0m\n",
      "\u001b[31mCheckpoint> Saving in path=['/opt/ml/output/data/checkpoint/1_Step-3496.ckpt.main_level.agent.main.online']\u001b[0m\n",
      "\u001b[31mTraining> Name=main_level/agent, Worker=0, Episode=4, Total reward=-1.97, Steps=3510, Training iteration=1\u001b[0m\n",
      "\u001b[31m## agent: Starting evaluation phase\u001b[0m\n",
      "\u001b[31mTesting> Name=main_level/agent, Worker=0, Episode=4, Total reward=-1.79, Steps=4096, Training iteration=1\u001b[0m\n",
      "\u001b[31mTesting> Name=main_level/agent, Worker=0, Episode=4, Total reward=-2.03, Steps=4096, Training iteration=1\u001b[0m\n",
      "\u001b[31mTesting> Name=main_level/agent, Worker=0, Episode=4, Total reward=-1.75, Steps=4096, Training iteration=1\u001b[0m\n",
      "\u001b[31mTesting> Name=main_level/agent, Worker=0, Episode=4, Total reward=-1.61, Steps=4096, Training iteration=1\u001b[0m\n",
      "\u001b[31mTesting> Name=main_level/agent, Worker=0, Episode=4, Total reward=-1.45, Steps=4096, Training iteration=1\u001b[0m\n",
      "\u001b[31m## agent: Finished evaluation phase. Success rate = 0.0, Avg Total Reward = -1.72\u001b[0m\n",
      "\u001b[31mCheckpoint> Saving in path=['/opt/ml/output/data/checkpoint/2_Step-4097.ckpt.main_level.agent.main.online']\u001b[0m\n",
      "\u001b[31mTraining> Name=main_level/agent, Worker=0, Episode=5, Total reward=-2.2, Steps=4827, Training iteration=1\u001b[0m\n",
      "\u001b[31mPolicy training> Surrogate loss=-0.00026043978868983686, KL divergence=[0.], Entropy=[-0.24155597], training epoch=0, learning_rate=0.0001\u001b[0m\n",
      "\u001b[31mPolicy training> Surrogate loss=-0.0025854434352368116, KL divergence=[0.], Entropy=[-0.24151988], training epoch=1, learning_rate=0.0001\u001b[0m\n",
      "\u001b[31mPolicy training> Surrogate loss=-0.01586497575044632, KL divergence=[0.], Entropy=[-0.24147654], training epoch=2, learning_rate=0.0001\u001b[0m\n",
      "\u001b[31mPolicy training> Surrogate loss=0.006605887785553932, KL divergence=[0.], Entropy=[-0.24142514], training epoch=3, learning_rate=0.0001\u001b[0m\n",
      "\u001b[31mPolicy training> Surrogate loss=-0.015821289271116257, KL divergence=[0.], Entropy=[-0.24138492], training epoch=4, learning_rate=0.0001\u001b[0m\n",
      "\u001b[31mPolicy training> Surrogate loss=-0.009343555197119713, KL divergence=[0.], Entropy=[-0.24135488], training epoch=5, learning_rate=0.0001\u001b[0m\n",
      "\u001b[31mPolicy training> Surrogate loss=-0.01575000397861004, KL divergence=[0.], Entropy=[-0.24132404], training epoch=6, learning_rate=0.0001\u001b[0m\n",
      "\u001b[31mPolicy training> Surrogate loss=-0.020238712430000305, KL divergence=[0.], Entropy=[-0.24126759], training epoch=7, learning_rate=0.0001\u001b[0m\n",
      "\u001b[31mPolicy training> Surrogate loss=-0.009096860885620117, KL divergence=[0.], Entropy=[-0.2412178], training epoch=8, learning_rate=0.0001\u001b[0m\n",
      "\u001b[31mPolicy training> Surrogate loss=-0.001647859695367515, KL divergence=[0.], Entropy=[-0.24119577], training epoch=9, learning_rate=0.0001\u001b[0m\n",
      "\u001b[31mTraining> Name=main_level/agent, Worker=0, Episode=6, Total reward=-2.5, Steps=5558, Training iteration=2\u001b[0m\n",
      "\u001b[31m## agent: Starting evaluation phase\u001b[0m\n",
      "\u001b[31mTesting> Name=main_level/agent, Worker=0, Episode=6, Total reward=-0.82, Steps=6144, Training iteration=2\u001b[0m\n",
      "\u001b[31mTesting> Name=main_level/agent, Worker=0, Episode=6, Total reward=-0.92, Steps=6144, Training iteration=2\u001b[0m\n",
      "\u001b[31mTesting> Name=main_level/agent, Worker=0, Episode=6, Total reward=-1.11, Steps=6144, Training iteration=2\u001b[0m\n",
      "\u001b[31mTesting> Name=main_level/agent, Worker=0, Episode=6, Total reward=-1.66, Steps=6144, Training iteration=2\u001b[0m\n",
      "\u001b[31mTesting> Name=main_level/agent, Worker=0, Episode=6, Total reward=-1.13, Steps=6144, Training iteration=2\u001b[0m\n",
      "\u001b[31m## agent: Finished evaluation phase. Success rate = 0.0, Avg Total Reward = -1.13\u001b[0m\n",
      "\u001b[31mCheckpoint> Saving in path=['/opt/ml/output/data/checkpoint/3_Step-6145.ckpt.main_level.agent.main.online']\u001b[0m\n"
     ]
    },
    {
     "name": "stdout",
     "output_type": "stream",
     "text": [
      "\u001b[31mTraining> Name=main_level/agent, Worker=0, Episode=7, Total reward=-3.09, Steps=6875, Training iteration=2\u001b[0m\n",
      "\u001b[31mPolicy training> Surrogate loss=0.012804467231035233, KL divergence=[0.], Entropy=[-0.24119559], training epoch=0, learning_rate=0.0001\u001b[0m\n",
      "\u001b[31mPolicy training> Surrogate loss=-0.009861736558377743, KL divergence=[0.], Entropy=[-0.24115314], training epoch=1, learning_rate=0.0001\u001b[0m\n",
      "\u001b[31mPolicy training> Surrogate loss=-4.4948676077183336e-05, KL divergence=[0.], Entropy=[-0.24111661], training epoch=2, learning_rate=0.0001\u001b[0m\n",
      "\u001b[31mPolicy training> Surrogate loss=-0.014691334217786789, KL divergence=[0.], Entropy=[-0.24107386], training epoch=3, learning_rate=0.0001\u001b[0m\n",
      "\u001b[31mPolicy training> Surrogate loss=-0.0104815773665905, KL divergence=[0.], Entropy=[-0.2410608], training epoch=4, learning_rate=0.0001\u001b[0m\n",
      "\u001b[31mPolicy training> Surrogate loss=-0.011535034514963627, KL divergence=[0.], Entropy=[-0.24104196], training epoch=5, learning_rate=0.0001\u001b[0m\n",
      "\u001b[31mPolicy training> Surrogate loss=-0.014787916094064713, KL divergence=[0.], Entropy=[-0.24100281], training epoch=6, learning_rate=0.0001\u001b[0m\n",
      "\u001b[31mPolicy training> Surrogate loss=-0.0022985993418842554, KL divergence=[0.], Entropy=[-0.24096774], training epoch=7, learning_rate=0.0001\u001b[0m\n",
      "\u001b[31mPolicy training> Surrogate loss=-0.017764516174793243, KL divergence=[0.], Entropy=[-0.24096099], training epoch=8, learning_rate=0.0001\u001b[0m\n",
      "\u001b[31mPolicy training> Surrogate loss=-0.02463098056614399, KL divergence=[0.], Entropy=[-0.24095191], training epoch=9, learning_rate=0.0001\u001b[0m\n",
      "\u001b[31mTraining> Name=main_level/agent, Worker=0, Episode=8, Total reward=-2.37, Steps=7606, Training iteration=3\u001b[0m\n",
      "\u001b[31m## agent: Starting evaluation phase\u001b[0m\n",
      "\u001b[31mTesting> Name=main_level/agent, Worker=0, Episode=8, Total reward=-0.67, Steps=8192, Training iteration=3\u001b[0m\n",
      "\u001b[31mTesting> Name=main_level/agent, Worker=0, Episode=8, Total reward=-0.63, Steps=8192, Training iteration=3\u001b[0m\n",
      "\u001b[31mTesting> Name=main_level/agent, Worker=0, Episode=8, Total reward=-0.98, Steps=8192, Training iteration=3\u001b[0m\n",
      "\u001b[31mTesting> Name=main_level/agent, Worker=0, Episode=8, Total reward=-0.82, Steps=8192, Training iteration=3\u001b[0m\n",
      "\u001b[31mTesting> Name=main_level/agent, Worker=0, Episode=8, Total reward=-0.79, Steps=8192, Training iteration=3\u001b[0m\n",
      "\u001b[31m## agent: Finished evaluation phase. Success rate = 0.0, Avg Total Reward = -0.78\u001b[0m\n",
      "\u001b[31mCheckpoint> Saving in path=['/opt/ml/output/data/checkpoint/4_Step-8193.ckpt.main_level.agent.main.online']\u001b[0m\n",
      "\u001b[31mTraining> Name=main_level/agent, Worker=0, Episode=9, Total reward=-2.47, Steps=8923, Training iteration=3\u001b[0m\n",
      "\u001b[31mPolicy training> Surrogate loss=0.04440062865614891, KL divergence=[0.], Entropy=[-0.24090964], training epoch=0, learning_rate=0.0001\u001b[0m\n",
      "\u001b[31mPolicy training> Surrogate loss=0.017127402126789093, KL divergence=[0.], Entropy=[-0.24090557], training epoch=1, learning_rate=0.0001\u001b[0m\n",
      "\u001b[31mPolicy training> Surrogate loss=0.003560140496119857, KL divergence=[0.], Entropy=[-0.24091758], training epoch=2, learning_rate=0.0001\u001b[0m\n",
      "\u001b[31mPolicy training> Surrogate loss=0.014923030510544777, KL divergence=[0.], Entropy=[-0.24091935], training epoch=3, learning_rate=0.0001\u001b[0m\n",
      "\u001b[31mPolicy training> Surrogate loss=0.0065477159805595875, KL divergence=[0.], Entropy=[-0.24090661], training epoch=4, learning_rate=0.0001\u001b[0m\n",
      "\u001b[31mPolicy training> Surrogate loss=0.015583232045173645, KL divergence=[0.], Entropy=[-0.24092942], training epoch=5, learning_rate=0.0001\u001b[0m\n",
      "\u001b[31mPolicy training> Surrogate loss=-0.003095402615144849, KL divergence=[0.], Entropy=[-0.24093194], training epoch=6, learning_rate=0.0001\u001b[0m\n",
      "\u001b[31mPolicy training> Surrogate loss=0.002474904526025057, KL divergence=[0.], Entropy=[-0.24092169], training epoch=7, learning_rate=0.0001\u001b[0m\n",
      "\u001b[31mPolicy training> Surrogate loss=0.011383285745978355, KL divergence=[0.], Entropy=[-0.24092366], training epoch=8, learning_rate=0.0001\u001b[0m\n",
      "\u001b[31mPolicy training> Surrogate loss=0.010773545131087303, KL divergence=[0.], Entropy=[-0.24093395], training epoch=9, learning_rate=0.0001\u001b[0m\n",
      "\u001b[31mTraining> Name=main_level/agent, Worker=0, Episode=10, Total reward=-3.03, Steps=9654, Training iteration=4\u001b[0m\n",
      "\u001b[31m## agent: Starting evaluation phase\u001b[0m\n",
      "\u001b[31mTesting> Name=main_level/agent, Worker=0, Episode=10, Total reward=-1.02, Steps=10240, Training iteration=4\u001b[0m\n",
      "\u001b[31mTesting> Name=main_level/agent, Worker=0, Episode=10, Total reward=-1.06, Steps=10240, Training iteration=4\u001b[0m\n",
      "\u001b[31mTesting> Name=main_level/agent, Worker=0, Episode=10, Total reward=-0.68, Steps=10240, Training iteration=4\u001b[0m\n",
      "\u001b[31mTesting> Name=main_level/agent, Worker=0, Episode=10, Total reward=-0.77, Steps=10240, Training iteration=4\u001b[0m\n",
      "\u001b[31mTesting> Name=main_level/agent, Worker=0, Episode=10, Total reward=-0.58, Steps=10240, Training iteration=4\u001b[0m\n",
      "\u001b[31m## agent: Finished evaluation phase. Success rate = 0.0, Avg Total Reward = -0.82\u001b[0m\n",
      "\u001b[31mCheckpoint> Saving in path=['/opt/ml/output/data/checkpoint/5_Step-10241.ckpt.main_level.agent.main.online']\u001b[0m\n",
      "\u001b[31mTraining> Name=main_level/agent, Worker=0, Episode=11, Total reward=-3.15, Steps=10971, Training iteration=4\u001b[0m\n",
      "\u001b[31mPolicy training> Surrogate loss=0.05001787096261978, KL divergence=[0.], Entropy=[-0.24092636], training epoch=0, learning_rate=0.0001\u001b[0m\n",
      "\u001b[31mPolicy training> Surrogate loss=0.012902343645691872, KL divergence=[0.], Entropy=[-0.24093491], training epoch=1, learning_rate=0.0001\u001b[0m\n",
      "\u001b[31mPolicy training> Surrogate loss=0.015021744184195995, KL divergence=[0.], Entropy=[-0.24096723], training epoch=2, learning_rate=0.0001\u001b[0m\n",
      "\u001b[31mPolicy training> Surrogate loss=0.020626747980713844, KL divergence=[0.], Entropy=[-0.24098028], training epoch=3, learning_rate=0.0001\u001b[0m\n",
      "\u001b[31mPolicy training> Surrogate loss=0.01585053652524948, KL divergence=[0.], Entropy=[-0.24099593], training epoch=4, learning_rate=0.0001\u001b[0m\n",
      "\u001b[31mPolicy training> Surrogate loss=0.024529248476028442, KL divergence=[0.], Entropy=[-0.24101287], training epoch=5, learning_rate=0.0001\u001b[0m\n",
      "\u001b[31mPolicy training> Surrogate loss=0.038407422602176666, KL divergence=[0.], Entropy=[-0.24105296], training epoch=6, learning_rate=0.0001\u001b[0m\n",
      "\u001b[31mPolicy training> Surrogate loss=0.026874028146266937, KL divergence=[0.], Entropy=[-0.24108316], training epoch=7, learning_rate=0.0001\u001b[0m\n",
      "\u001b[31mPolicy training> Surrogate loss=0.00978345237672329, KL divergence=[0.], Entropy=[-0.24111773], training epoch=8, learning_rate=0.0001\u001b[0m\n",
      "\u001b[31mPolicy training> Surrogate loss=0.012022089213132858, KL divergence=[0.], Entropy=[-0.24113092], training epoch=9, learning_rate=0.0001\u001b[0m\n",
      "\u001b[31mTraining> Name=main_level/agent, Worker=0, Episode=12, Total reward=-2.59, Steps=11702, Training iteration=5\u001b[0m\n",
      "\u001b[31m## agent: Starting evaluation phase\u001b[0m\n",
      "\u001b[31mTesting> Name=main_level/agent, Worker=0, Episode=12, Total reward=-0.7, Steps=12288, Training iteration=5\u001b[0m\n",
      "\u001b[31mTesting> Name=main_level/agent, Worker=0, Episode=12, Total reward=-0.61, Steps=12288, Training iteration=5\u001b[0m\n",
      "\u001b[31mTesting> Name=main_level/agent, Worker=0, Episode=12, Total reward=-0.66, Steps=12288, Training iteration=5\u001b[0m\n",
      "\u001b[31mTesting> Name=main_level/agent, Worker=0, Episode=12, Total reward=-0.37, Steps=12288, Training iteration=5\u001b[0m\n",
      "\u001b[31mTesting> Name=main_level/agent, Worker=0, Episode=12, Total reward=-0.94, Steps=12288, Training iteration=5\u001b[0m\n",
      "\u001b[31m## agent: Finished evaluation phase. Success rate = 0.0, Avg Total Reward = -0.66\u001b[0m\n",
      "\u001b[31mCheckpoint> Saving in path=['/opt/ml/output/data/checkpoint/6_Step-12289.ckpt.main_level.agent.main.online']\u001b[0m\n",
      "\u001b[31mTraining> Name=main_level/agent, Worker=0, Episode=13, Total reward=-2.94, Steps=13019, Training iteration=5\u001b[0m\n",
      "\u001b[31mPolicy training> Surrogate loss=0.030030446127057076, KL divergence=[0.], Entropy=[-0.24116598], training epoch=0, learning_rate=0.0001\u001b[0m\n",
      "\u001b[31mPolicy training> Surrogate loss=0.01948378048837185, KL divergence=[0.], Entropy=[-0.2411959], training epoch=1, learning_rate=0.0001\u001b[0m\n",
      "\u001b[31mPolicy training> Surrogate loss=0.01619126833975315, KL divergence=[0.], Entropy=[-0.24122769], training epoch=2, learning_rate=0.0001\u001b[0m\n",
      "\u001b[31mPolicy training> Surrogate loss=0.03215300291776657, KL divergence=[0.], Entropy=[-0.24126095], training epoch=3, learning_rate=0.0001\u001b[0m\n",
      "\u001b[31mPolicy training> Surrogate loss=0.01441236212849617, KL divergence=[0.], Entropy=[-0.24129783], training epoch=4, learning_rate=0.0001\u001b[0m\n",
      "\u001b[31mPolicy training> Surrogate loss=0.01595967635512352, KL divergence=[0.], Entropy=[-0.24133517], training epoch=5, learning_rate=0.0001\u001b[0m\n",
      "\u001b[31mPolicy training> Surrogate loss=0.00689092418178916, KL divergence=[0.], Entropy=[-0.24136847], training epoch=6, learning_rate=0.0001\u001b[0m\n",
      "\u001b[31mPolicy training> Surrogate loss=0.009454830549657345, KL divergence=[0.], Entropy=[-0.24140772], training epoch=7, learning_rate=0.0001\u001b[0m\n",
      "\u001b[31mPolicy training> Surrogate loss=0.0015160180628299713, KL divergence=[0.], Entropy=[-0.24144693], training epoch=8, learning_rate=0.0001\u001b[0m\n",
      "\u001b[31mPolicy training> Surrogate loss=0.010138895362615585, KL divergence=[0.], Entropy=[-0.24148163], training epoch=9, learning_rate=0.0001\u001b[0m\n",
      "\u001b[31mTraining> Name=main_level/agent, Worker=0, Episode=14, Total reward=-2.97, Steps=13750, Training iteration=6\u001b[0m\n",
      "\u001b[31m## agent: Starting evaluation phase\u001b[0m\n",
      "\u001b[31mTesting> Name=main_level/agent, Worker=0, Episode=14, Total reward=0.1, Steps=14336, Training iteration=6\u001b[0m\n"
     ]
    },
    {
     "name": "stdout",
     "output_type": "stream",
     "text": [
      "\u001b[31mTesting> Name=main_level/agent, Worker=0, Episode=14, Total reward=-0.23, Steps=14336, Training iteration=6\u001b[0m\n",
      "\u001b[31mTesting> Name=main_level/agent, Worker=0, Episode=14, Total reward=-0.36, Steps=14336, Training iteration=6\u001b[0m\n",
      "\u001b[31mTesting> Name=main_level/agent, Worker=0, Episode=14, Total reward=-0.26, Steps=14336, Training iteration=6\u001b[0m\n",
      "\u001b[31mTesting> Name=main_level/agent, Worker=0, Episode=14, Total reward=-0.8, Steps=14336, Training iteration=6\u001b[0m\n",
      "\u001b[31m## agent: Finished evaluation phase. Success rate = 0.0, Avg Total Reward = -0.31\u001b[0m\n",
      "\u001b[31mCheckpoint> Saving in path=['/opt/ml/output/data/checkpoint/7_Step-14337.ckpt.main_level.agent.main.online']\u001b[0m\n",
      "\u001b[31mTraining> Name=main_level/agent, Worker=0, Episode=15, Total reward=-3.18, Steps=15067, Training iteration=6\u001b[0m\n",
      "\u001b[31mPolicy training> Surrogate loss=0.03454485535621643, KL divergence=[0.], Entropy=[-0.24149895], training epoch=0, learning_rate=0.0001\u001b[0m\n",
      "\u001b[31mPolicy training> Surrogate loss=0.024196533486247063, KL divergence=[0.], Entropy=[-0.24148323], training epoch=1, learning_rate=0.0001\u001b[0m\n",
      "\u001b[31mPolicy training> Surrogate loss=0.018698345869779587, KL divergence=[0.], Entropy=[-0.24145937], training epoch=2, learning_rate=0.0001\u001b[0m\n",
      "\u001b[31mPolicy training> Surrogate loss=0.017599662765860558, KL divergence=[0.], Entropy=[-0.24145295], training epoch=3, learning_rate=0.0001\u001b[0m\n",
      "\u001b[31mPolicy training> Surrogate loss=0.009500968270003796, KL divergence=[0.], Entropy=[-0.24145165], training epoch=4, learning_rate=0.0001\u001b[0m\n",
      "\u001b[31mPolicy training> Surrogate loss=0.013685047626495361, KL divergence=[0.], Entropy=[-0.24145369], training epoch=5, learning_rate=0.0001\u001b[0m\n",
      "\u001b[31mPolicy training> Surrogate loss=0.02722140960395336, KL divergence=[0.], Entropy=[-0.24143738], training epoch=6, learning_rate=0.0001\u001b[0m\n",
      "\u001b[31mPolicy training> Surrogate loss=0.020451227203011513, KL divergence=[0.], Entropy=[-0.24142252], training epoch=7, learning_rate=0.0001\u001b[0m\n",
      "\u001b[31mPolicy training> Surrogate loss=0.020359313115477562, KL divergence=[0.], Entropy=[-0.24141397], training epoch=8, learning_rate=0.0001\u001b[0m\n",
      "\u001b[31mPolicy training> Surrogate loss=0.012990512885153294, KL divergence=[0.], Entropy=[-0.24139729], training epoch=9, learning_rate=0.0001\u001b[0m\n",
      "\u001b[31mTraining> Name=main_level/agent, Worker=0, Episode=16, Total reward=-2.93, Steps=15798, Training iteration=7\u001b[0m\n",
      "\u001b[31m## agent: Starting evaluation phase\u001b[0m\n",
      "\u001b[31mTesting> Name=main_level/agent, Worker=0, Episode=16, Total reward=-0.36, Steps=16384, Training iteration=7\u001b[0m\n",
      "\u001b[31mTesting> Name=main_level/agent, Worker=0, Episode=16, Total reward=-0.74, Steps=16384, Training iteration=7\u001b[0m\n",
      "\u001b[31mTesting> Name=main_level/agent, Worker=0, Episode=16, Total reward=-0.76, Steps=16384, Training iteration=7\u001b[0m\n",
      "\u001b[31mTesting> Name=main_level/agent, Worker=0, Episode=16, Total reward=-0.34, Steps=16384, Training iteration=7\u001b[0m\n",
      "\u001b[31mTesting> Name=main_level/agent, Worker=0, Episode=16, Total reward=-0.12, Steps=16384, Training iteration=7\u001b[0m\n",
      "\u001b[31m## agent: Finished evaluation phase. Success rate = 0.0, Avg Total Reward = -0.46\u001b[0m\n",
      "\u001b[31mCheckpoint> Saving in path=['/opt/ml/output/data/checkpoint/8_Step-16385.ckpt.main_level.agent.main.online']\u001b[0m\n",
      "\u001b[31mTraining> Name=main_level/agent, Worker=0, Episode=17, Total reward=-2.7, Steps=17115, Training iteration=7\u001b[0m\n",
      "\u001b[31mPolicy training> Surrogate loss=0.03660091012716293, KL divergence=[0.], Entropy=[-0.24140173], training epoch=0, learning_rate=0.0001\u001b[0m\n",
      "\u001b[31mPolicy training> Surrogate loss=0.008482114411890507, KL divergence=[0.], Entropy=[-0.24140772], training epoch=1, learning_rate=0.0001\u001b[0m\n",
      "\u001b[31mPolicy training> Surrogate loss=0.013161111623048782, KL divergence=[0.], Entropy=[-0.24141926], training epoch=2, learning_rate=0.0001\u001b[0m\n",
      "\u001b[31mPolicy training> Surrogate loss=0.0021517276763916016, KL divergence=[0.], Entropy=[-0.24143511], training epoch=3, learning_rate=0.0001\u001b[0m\n",
      "\u001b[31mPolicy training> Surrogate loss=0.0011098835384473205, KL divergence=[0.], Entropy=[-0.24144617], training epoch=4, learning_rate=0.0001\u001b[0m\n",
      "\u001b[31mPolicy training> Surrogate loss=0.011789084412157536, KL divergence=[0.], Entropy=[-0.24146047], training epoch=5, learning_rate=0.0001\u001b[0m\n",
      "\u001b[31mPolicy training> Surrogate loss=0.004975466523319483, KL divergence=[0.], Entropy=[-0.241473], training epoch=6, learning_rate=0.0001\u001b[0m\n",
      "\u001b[31mPolicy training> Surrogate loss=-0.005035358481109142, KL divergence=[0.], Entropy=[-0.24149899], training epoch=7, learning_rate=0.0001\u001b[0m\n",
      "\u001b[31mPolicy training> Surrogate loss=-0.00249957456253469, KL divergence=[0.], Entropy=[-0.24151397], training epoch=8, learning_rate=0.0001\u001b[0m\n",
      "\u001b[31mPolicy training> Surrogate loss=-0.015167337842285633, KL divergence=[0.], Entropy=[-0.24150424], training epoch=9, learning_rate=0.0001\u001b[0m\n",
      "\u001b[31mTraining> Name=main_level/agent, Worker=0, Episode=18, Total reward=-3.24, Steps=17846, Training iteration=8\u001b[0m\n",
      "\u001b[31m## agent: Starting evaluation phase\u001b[0m\n",
      "\u001b[31mTesting> Name=main_level/agent, Worker=0, Episode=18, Total reward=-0.33, Steps=18432, Training iteration=8\u001b[0m\n",
      "\u001b[31mTesting> Name=main_level/agent, Worker=0, Episode=18, Total reward=-0.83, Steps=18432, Training iteration=8\u001b[0m\n",
      "\u001b[31mTesting> Name=main_level/agent, Worker=0, Episode=18, Total reward=-0.47, Steps=18432, Training iteration=8\u001b[0m\n",
      "\u001b[31mTesting> Name=main_level/agent, Worker=0, Episode=18, Total reward=-0.68, Steps=18432, Training iteration=8\u001b[0m\n",
      "\u001b[31mTesting> Name=main_level/agent, Worker=0, Episode=18, Total reward=-0.47, Steps=18432, Training iteration=8\u001b[0m\n",
      "\u001b[31m## agent: Finished evaluation phase. Success rate = 0.0, Avg Total Reward = -0.55\u001b[0m\n",
      "\u001b[31mCheckpoint> Saving in path=['/opt/ml/output/data/checkpoint/9_Step-18433.ckpt.main_level.agent.main.online']\u001b[0m\n",
      "\u001b[31mTraining> Name=main_level/agent, Worker=0, Episode=19, Total reward=-2.74, Steps=19163, Training iteration=8\u001b[0m\n",
      "\u001b[31mPolicy training> Surrogate loss=0.021065138280391693, KL divergence=[0.], Entropy=[-0.24149136], training epoch=0, learning_rate=0.0001\u001b[0m\n",
      "\u001b[31mPolicy training> Surrogate loss=0.020744038745760918, KL divergence=[0.], Entropy=[-0.24149626], training epoch=1, learning_rate=0.0001\u001b[0m\n",
      "\u001b[31mPolicy training> Surrogate loss=0.02107400819659233, KL divergence=[0.], Entropy=[-0.2415123], training epoch=2, learning_rate=0.0001\u001b[0m\n",
      "\u001b[31mPolicy training> Surrogate loss=0.03030375950038433, KL divergence=[0.], Entropy=[-0.24152522], training epoch=3, learning_rate=0.0001\u001b[0m\n",
      "\u001b[31mPolicy training> Surrogate loss=0.015360758639872074, KL divergence=[0.], Entropy=[-0.24153882], training epoch=4, learning_rate=0.0001\u001b[0m\n",
      "\u001b[31mPolicy training> Surrogate loss=0.0250752791762352, KL divergence=[0.], Entropy=[-0.24154535], training epoch=5, learning_rate=0.0001\u001b[0m\n",
      "\u001b[31mPolicy training> Surrogate loss=0.013017883524298668, KL divergence=[0.], Entropy=[-0.2415604], training epoch=6, learning_rate=0.0001\u001b[0m\n",
      "\u001b[31mPolicy training> Surrogate loss=0.006284821312874556, KL divergence=[0.], Entropy=[-0.24157767], training epoch=7, learning_rate=0.0001\u001b[0m\n",
      "\u001b[31mPolicy training> Surrogate loss=0.0035742863547056913, KL divergence=[0.], Entropy=[-0.2416026], training epoch=8, learning_rate=0.0001\u001b[0m\n",
      "\u001b[31mPolicy training> Surrogate loss=0.021810613572597504, KL divergence=[0.], Entropy=[-0.24163073], training epoch=9, learning_rate=0.0001\u001b[0m\n",
      "\u001b[31mTraining> Name=main_level/agent, Worker=0, Episode=20, Total reward=-2.86, Steps=19894, Training iteration=9\u001b[0m\n",
      "\u001b[31m## agent: Starting evaluation phase\u001b[0m\n",
      "\u001b[31mTesting> Name=main_level/agent, Worker=0, Episode=20, Total reward=0.21, Steps=20480, Training iteration=9\u001b[0m\n",
      "\u001b[31mTesting> Name=main_level/agent, Worker=0, Episode=20, Total reward=-0.41, Steps=20480, Training iteration=9\u001b[0m\n",
      "\u001b[31mTesting> Name=main_level/agent, Worker=0, Episode=20, Total reward=-0.42, Steps=20480, Training iteration=9\u001b[0m\n",
      "\u001b[31mTesting> Name=main_level/agent, Worker=0, Episode=20, Total reward=-0.28, Steps=20480, Training iteration=9\u001b[0m\n",
      "\u001b[31mTesting> Name=main_level/agent, Worker=0, Episode=20, Total reward=-0.94, Steps=20480, Training iteration=9\u001b[0m\n",
      "\u001b[31m## agent: Finished evaluation phase. Success rate = 0.0, Avg Total Reward = -0.37\u001b[0m\n",
      "\u001b[31mCheckpoint> Saving in path=['/opt/ml/output/data/checkpoint/10_Step-20481.ckpt.main_level.agent.main.online']\u001b[0m\n"
     ]
    },
    {
     "name": "stdout",
     "output_type": "stream",
     "text": [
      "\u001b[31mTraining> Name=main_level/agent, Worker=0, Episode=21, Total reward=-2.52, Steps=21211, Training iteration=9\u001b[0m\n",
      "\u001b[31mPolicy training> Surrogate loss=0.027602344751358032, KL divergence=[0.], Entropy=[-0.24163772], training epoch=0, learning_rate=0.0001\u001b[0m\n",
      "\u001b[31mPolicy training> Surrogate loss=0.015934176743030548, KL divergence=[0.], Entropy=[-0.24164781], training epoch=1, learning_rate=0.0001\u001b[0m\n",
      "\u001b[31mPolicy training> Surrogate loss=0.02160494402050972, KL divergence=[0.], Entropy=[-0.24166478], training epoch=2, learning_rate=0.0001\u001b[0m\n",
      "\u001b[31mPolicy training> Surrogate loss=0.032186370342969894, KL divergence=[0.], Entropy=[-0.24170828], training epoch=3, learning_rate=0.0001\u001b[0m\n",
      "\u001b[31mPolicy training> Surrogate loss=0.018780214712023735, KL divergence=[0.], Entropy=[-0.24175169], training epoch=4, learning_rate=0.0001\u001b[0m\n",
      "\u001b[31mPolicy training> Surrogate loss=0.01406117994338274, KL divergence=[0.], Entropy=[-0.24176231], training epoch=5, learning_rate=0.0001\u001b[0m\n",
      "\u001b[31mPolicy training> Surrogate loss=0.03400639072060585, KL divergence=[0.], Entropy=[-0.24177094], training epoch=6, learning_rate=0.0001\u001b[0m\n",
      "\u001b[31mPolicy training> Surrogate loss=0.008848460391163826, KL divergence=[0.], Entropy=[-0.24179338], training epoch=7, learning_rate=0.0001\u001b[0m\n",
      "\u001b[31mPolicy training> Surrogate loss=0.013436385430395603, KL divergence=[0.], Entropy=[-0.24181423], training epoch=8, learning_rate=0.0001\u001b[0m\n",
      "\u001b[31mPolicy training> Surrogate loss=0.00895741768181324, KL divergence=[0.], Entropy=[-0.2418181], training epoch=9, learning_rate=0.0001\u001b[0m\n",
      "\u001b[31mTraining> Name=main_level/agent, Worker=0, Episode=22, Total reward=-2.78, Steps=21942, Training iteration=10\u001b[0m\n",
      "\u001b[31m## agent: Starting evaluation phase\u001b[0m\n",
      "\u001b[31mTesting> Name=main_level/agent, Worker=0, Episode=22, Total reward=-0.55, Steps=22528, Training iteration=10\u001b[0m\n",
      "\u001b[31mTesting> Name=main_level/agent, Worker=0, Episode=22, Total reward=-0.2, Steps=22528, Training iteration=10\u001b[0m\n",
      "\u001b[31mTesting> Name=main_level/agent, Worker=0, Episode=22, Total reward=0.01, Steps=22528, Training iteration=10\u001b[0m\n",
      "\u001b[31mTesting> Name=main_level/agent, Worker=0, Episode=22, Total reward=-0.53, Steps=22528, Training iteration=10\u001b[0m\n",
      "\u001b[31mTesting> Name=main_level/agent, Worker=0, Episode=22, Total reward=-0.11, Steps=22528, Training iteration=10\u001b[0m\n",
      "\u001b[31m## agent: Finished evaluation phase. Success rate = 0.0, Avg Total Reward = -0.28\u001b[0m\n",
      "\u001b[31mCheckpoint> Saving in path=['/opt/ml/output/data/checkpoint/11_Step-22529.ckpt.main_level.agent.main.online']\u001b[0m\n",
      "\u001b[31mTraining> Name=main_level/agent, Worker=0, Episode=23, Total reward=-2.82, Steps=23259, Training iteration=10\u001b[0m\n",
      "\u001b[31mPolicy training> Surrogate loss=0.03721335902810097, KL divergence=[0.], Entropy=[-0.24182129], training epoch=0, learning_rate=0.0001\u001b[0m\n",
      "\u001b[31mPolicy training> Surrogate loss=0.01181043405085802, KL divergence=[0.], Entropy=[-0.24181837], training epoch=1, learning_rate=0.0001\u001b[0m\n",
      "\u001b[31mPolicy training> Surrogate loss=0.02972482517361641, KL divergence=[0.], Entropy=[-0.24180388], training epoch=2, learning_rate=0.0001\u001b[0m\n",
      "\u001b[31mPolicy training> Surrogate loss=0.03292912244796753, KL divergence=[0.], Entropy=[-0.24178132], training epoch=3, learning_rate=0.0001\u001b[0m\n",
      "\u001b[31mPolicy training> Surrogate loss=0.026322834193706512, KL divergence=[0.], Entropy=[-0.24177308], training epoch=4, learning_rate=0.0001\u001b[0m\n",
      "\u001b[31mPolicy training> Surrogate loss=0.02262629196047783, KL divergence=[0.], Entropy=[-0.24175836], training epoch=5, learning_rate=0.0001\u001b[0m\n",
      "\u001b[31mPolicy training> Surrogate loss=0.0024536431301385164, KL divergence=[0.], Entropy=[-0.24175607], training epoch=6, learning_rate=0.0001\u001b[0m\n",
      "\u001b[31mPolicy training> Surrogate loss=0.012947204522788525, KL divergence=[0.], Entropy=[-0.24175443], training epoch=7, learning_rate=0.0001\u001b[0m\n",
      "\u001b[31mPolicy training> Surrogate loss=0.004809896927326918, KL divergence=[0.], Entropy=[-0.24175282], training epoch=8, learning_rate=0.0001\u001b[0m\n",
      "\u001b[31mPolicy training> Surrogate loss=0.0073362067341804504, KL divergence=[0.], Entropy=[-0.24174894], training epoch=9, learning_rate=0.0001\u001b[0m\n",
      "\u001b[31mTraining> Name=main_level/agent, Worker=0, Episode=24, Total reward=-2.6, Steps=23990, Training iteration=11\u001b[0m\n",
      "\u001b[31m## agent: Starting evaluation phase\u001b[0m\n",
      "\u001b[31mTesting> Name=main_level/agent, Worker=0, Episode=24, Total reward=-0.33, Steps=24576, Training iteration=11\u001b[0m\n",
      "\u001b[31mTesting> Name=main_level/agent, Worker=0, Episode=24, Total reward=-0.52, Steps=24576, Training iteration=11\u001b[0m\n",
      "\u001b[31mTesting> Name=main_level/agent, Worker=0, Episode=24, Total reward=-0.18, Steps=24576, Training iteration=11\u001b[0m\n",
      "\u001b[31mTesting> Name=main_level/agent, Worker=0, Episode=24, Total reward=-0.14, Steps=24576, Training iteration=11\u001b[0m\n",
      "\u001b[31mTesting> Name=main_level/agent, Worker=0, Episode=24, Total reward=-0.81, Steps=24576, Training iteration=11\u001b[0m\n",
      "\u001b[31m## agent: Finished evaluation phase. Success rate = 0.0, Avg Total Reward = -0.4\u001b[0m\n",
      "\u001b[31mCheckpoint> Saving in path=['/opt/ml/output/data/checkpoint/12_Step-24577.ckpt.main_level.agent.main.online']\u001b[0m\n",
      "\u001b[31mTraining> Name=main_level/agent, Worker=0, Episode=25, Total reward=-2.64, Steps=25307, Training iteration=11\u001b[0m\n",
      "\u001b[31mPolicy training> Surrogate loss=0.038483429700136185, KL divergence=[0.], Entropy=[-0.24173899], training epoch=0, learning_rate=0.0001\u001b[0m\n",
      "\u001b[31mPolicy training> Surrogate loss=0.03449413925409317, KL divergence=[0.], Entropy=[-0.24173571], training epoch=1, learning_rate=0.0001\u001b[0m\n",
      "\u001b[31mPolicy training> Surrogate loss=0.03611677512526512, KL divergence=[0.], Entropy=[-0.24173708], training epoch=2, learning_rate=0.0001\u001b[0m\n",
      "\u001b[31mPolicy training> Surrogate loss=0.021465610712766647, KL divergence=[0.], Entropy=[-0.24174456], training epoch=3, learning_rate=0.0001\u001b[0m\n",
      "\u001b[31mPolicy training> Surrogate loss=0.027665771543979645, KL divergence=[0.], Entropy=[-0.24174614], training epoch=4, learning_rate=0.0001\u001b[0m\n",
      "\u001b[31mPolicy training> Surrogate loss=0.04050621762871742, KL divergence=[0.], Entropy=[-0.2417512], training epoch=5, learning_rate=0.0001\u001b[0m\n",
      "\u001b[31mPolicy training> Surrogate loss=0.03157748281955719, KL divergence=[0.], Entropy=[-0.24175783], training epoch=6, learning_rate=0.0001\u001b[0m\n",
      "\u001b[31mPolicy training> Surrogate loss=0.03337818756699562, KL divergence=[0.], Entropy=[-0.24175256], training epoch=7, learning_rate=0.0001\u001b[0m\n",
      "\u001b[31mPolicy training> Surrogate loss=0.019754724577069283, KL divergence=[0.], Entropy=[-0.24175958], training epoch=8, learning_rate=0.0001\u001b[0m\n",
      "\u001b[31mPolicy training> Surrogate loss=0.02191050536930561, KL divergence=[0.], Entropy=[-0.24175173], training epoch=9, learning_rate=0.0001\u001b[0m\n",
      "\u001b[31mTraining> Name=main_level/agent, Worker=0, Episode=26, Total reward=-2.9, Steps=26038, Training iteration=12\u001b[0m\n",
      "\u001b[31m## agent: Starting evaluation phase\u001b[0m\n",
      "\u001b[31mTesting> Name=main_level/agent, Worker=0, Episode=26, Total reward=-0.92, Steps=26624, Training iteration=12\u001b[0m\n",
      "\u001b[31mTesting> Name=main_level/agent, Worker=0, Episode=26, Total reward=-0.12, Steps=26624, Training iteration=12\u001b[0m\n",
      "\u001b[31mTesting> Name=main_level/agent, Worker=0, Episode=26, Total reward=-0.9, Steps=26624, Training iteration=12\u001b[0m\n",
      "\u001b[31mTesting> Name=main_level/agent, Worker=0, Episode=26, Total reward=-0.41, Steps=26624, Training iteration=12\u001b[0m\n",
      "\u001b[31mTesting> Name=main_level/agent, Worker=0, Episode=26, Total reward=-0.61, Steps=26624, Training iteration=12\u001b[0m\n",
      "\u001b[31m## agent: Finished evaluation phase. Success rate = 0.0, Avg Total Reward = -0.59\u001b[0m\n",
      "\u001b[31mCheckpoint> Saving in path=['/opt/ml/output/data/checkpoint/13_Step-26625.ckpt.main_level.agent.main.online']\u001b[0m\n",
      "\u001b[31mTraining> Name=main_level/agent, Worker=0, Episode=27, Total reward=-2.48, Steps=27355, Training iteration=12\u001b[0m\n",
      "\u001b[31mPolicy training> Surrogate loss=0.03260877728462219, KL divergence=[0.], Entropy=[-0.24175414], training epoch=0, learning_rate=0.0001\u001b[0m\n",
      "\u001b[31mPolicy training> Surrogate loss=0.03030201978981495, KL divergence=[0.], Entropy=[-0.24178004], training epoch=1, learning_rate=0.0001\u001b[0m\n",
      "\u001b[31mPolicy training> Surrogate loss=0.026439042761921883, KL divergence=[0.], Entropy=[-0.24180485], training epoch=2, learning_rate=0.0001\u001b[0m\n",
      "\u001b[31mPolicy training> Surrogate loss=0.01200015190988779, KL divergence=[0.], Entropy=[-0.24181725], training epoch=3, learning_rate=0.0001\u001b[0m\n",
      "\u001b[31mPolicy training> Surrogate loss=0.01937258057296276, KL divergence=[0.], Entropy=[-0.24183129], training epoch=4, learning_rate=0.0001\u001b[0m\n",
      "\u001b[31mPolicy training> Surrogate loss=0.028292439877986908, KL divergence=[0.], Entropy=[-0.24184908], training epoch=5, learning_rate=0.0001\u001b[0m\n",
      "\u001b[31mPolicy training> Surrogate loss=0.033315666019916534, KL divergence=[0.], Entropy=[-0.24186659], training epoch=6, learning_rate=0.0001\u001b[0m\n",
      "\u001b[31mPolicy training> Surrogate loss=0.010782708413898945, KL divergence=[0.], Entropy=[-0.24190544], training epoch=7, learning_rate=0.0001\u001b[0m\n",
      "\u001b[31mPolicy training> Surrogate loss=0.03292714059352875, KL divergence=[0.], Entropy=[-0.24193935], training epoch=8, learning_rate=0.0001\u001b[0m\n",
      "\u001b[31mPolicy training> Surrogate loss=0.01922958344221115, KL divergence=[0.], Entropy=[-0.24197525], training epoch=9, learning_rate=0.0001\u001b[0m\n",
      "\u001b[31mTraining> Name=main_level/agent, Worker=0, Episode=28, Total reward=-3.14, Steps=28086, Training iteration=13\u001b[0m\n",
      "\u001b[31m## agent: Starting evaluation phase\u001b[0m\n",
      "\u001b[31mTesting> Name=main_level/agent, Worker=0, Episode=28, Total reward=-0.47, Steps=28672, Training iteration=13\u001b[0m\n"
     ]
    },
    {
     "name": "stdout",
     "output_type": "stream",
     "text": [
      "\u001b[31mTesting> Name=main_level/agent, Worker=0, Episode=28, Total reward=-0.66, Steps=28672, Training iteration=13\u001b[0m\n",
      "\u001b[31mTesting> Name=main_level/agent, Worker=0, Episode=28, Total reward=-0.88, Steps=28672, Training iteration=13\u001b[0m\n",
      "\u001b[31mTesting> Name=main_level/agent, Worker=0, Episode=28, Total reward=0.05, Steps=28672, Training iteration=13\u001b[0m\n",
      "\u001b[31mTesting> Name=main_level/agent, Worker=0, Episode=28, Total reward=-0.24, Steps=28672, Training iteration=13\u001b[0m\n",
      "\u001b[31m## agent: Finished evaluation phase. Success rate = 0.0, Avg Total Reward = -0.44\u001b[0m\n",
      "\u001b[31mCheckpoint> Saving in path=['/opt/ml/output/data/checkpoint/14_Step-28673.ckpt.main_level.agent.main.online']\u001b[0m\n",
      "\u001b[31mTraining> Name=main_level/agent, Worker=0, Episode=29, Total reward=-3.11, Steps=29403, Training iteration=13\u001b[0m\n",
      "\u001b[31mPolicy training> Surrogate loss=0.04617445170879364, KL divergence=[0.], Entropy=[-0.24201241], training epoch=0, learning_rate=0.0001\u001b[0m\n",
      "\u001b[31mPolicy training> Surrogate loss=0.04286491125822067, KL divergence=[0.], Entropy=[-0.24204049], training epoch=1, learning_rate=0.0001\u001b[0m\n",
      "\u001b[31mPolicy training> Surrogate loss=0.027604181319475174, KL divergence=[0.], Entropy=[-0.24205591], training epoch=2, learning_rate=0.0001\u001b[0m\n",
      "\u001b[31mPolicy training> Surrogate loss=0.010408755391836166, KL divergence=[0.], Entropy=[-0.2420885], training epoch=3, learning_rate=0.0001\u001b[0m\n",
      "\u001b[31mPolicy training> Surrogate loss=0.015632348135113716, KL divergence=[0.], Entropy=[-0.24210858], training epoch=4, learning_rate=0.0001\u001b[0m\n",
      "\u001b[31mPolicy training> Surrogate loss=0.01540732104331255, KL divergence=[0.], Entropy=[-0.24212404], training epoch=5, learning_rate=0.0001\u001b[0m\n",
      "\u001b[31mPolicy training> Surrogate loss=0.01762796752154827, KL divergence=[0.], Entropy=[-0.2421353], training epoch=6, learning_rate=0.0001\u001b[0m\n",
      "\u001b[31mPolicy training> Surrogate loss=0.022114736959338188, KL divergence=[0.], Entropy=[-0.24215811], training epoch=7, learning_rate=0.0001\u001b[0m\n",
      "\u001b[31mPolicy training> Surrogate loss=0.017854923382401466, KL divergence=[0.], Entropy=[-0.24218422], training epoch=8, learning_rate=0.0001\u001b[0m\n",
      "\u001b[31mPolicy training> Surrogate loss=0.02374752052128315, KL divergence=[0.], Entropy=[-0.24221487], training epoch=9, learning_rate=0.0001\u001b[0m\n",
      "\u001b[31mTraining> Name=main_level/agent, Worker=0, Episode=30, Total reward=-2.73, Steps=30134, Training iteration=14\u001b[0m\n",
      "\u001b[31mCheckpoint> Saving in path=['/opt/ml/output/data/checkpoint/15_Step-30569.ckpt.main_level.agent.main.online']\u001b[0m\n",
      "\u001b[31m## agent: Starting evaluation phase\u001b[0m\n",
      "\u001b[31mTesting> Name=main_level/agent, Worker=0, Episode=30, Total reward=-0.73, Steps=30720, Training iteration=14\u001b[0m\n",
      "\u001b[31mTesting> Name=main_level/agent, Worker=0, Episode=30, Total reward=-0.28, Steps=30720, Training iteration=14\u001b[0m\n",
      "\u001b[31mTesting> Name=main_level/agent, Worker=0, Episode=30, Total reward=-0.32, Steps=30720, Training iteration=14\u001b[0m\n",
      "\u001b[31mTesting> Name=main_level/agent, Worker=0, Episode=30, Total reward=-0.85, Steps=30720, Training iteration=14\u001b[0m\n",
      "\u001b[31mTesting> Name=main_level/agent, Worker=0, Episode=30, Total reward=-0.25, Steps=30720, Training iteration=14\u001b[0m\n",
      "\u001b[31m## agent: Finished evaluation phase. Success rate = 0.0, Avg Total Reward = -0.49\u001b[0m\n",
      "\u001b[31mCheckpoint> Saving in path=['/opt/ml/output/data/checkpoint/16_Step-30721.ckpt.main_level.agent.main.online']\u001b[0m\n",
      "\u001b[31mTraining> Name=main_level/agent, Worker=0, Episode=31, Total reward=-2.95, Steps=31451, Training iteration=14\u001b[0m\n",
      "\u001b[31mPolicy training> Surrogate loss=0.03718654438853264, KL divergence=[0.], Entropy=[-0.24222125], training epoch=0, learning_rate=0.0001\u001b[0m\n",
      "\u001b[31mPolicy training> Surrogate loss=0.031329717487096786, KL divergence=[0.], Entropy=[-0.24223934], training epoch=1, learning_rate=0.0001\u001b[0m\n",
      "\u001b[31mPolicy training> Surrogate loss=0.021826215088367462, KL divergence=[0.], Entropy=[-0.24225277], training epoch=2, learning_rate=0.0001\u001b[0m\n",
      "\u001b[31mPolicy training> Surrogate loss=0.02204597368836403, KL divergence=[0.], Entropy=[-0.24225664], training epoch=3, learning_rate=0.0001\u001b[0m\n",
      "\u001b[31mPolicy training> Surrogate loss=0.0175138171762228, KL divergence=[0.], Entropy=[-0.2422571], training epoch=4, learning_rate=0.0001\u001b[0m\n",
      "\u001b[31mPolicy training> Surrogate loss=0.017160721123218536, KL divergence=[0.], Entropy=[-0.24226674], training epoch=5, learning_rate=0.0001\u001b[0m\n",
      "\u001b[31mPolicy training> Surrogate loss=0.01776304841041565, KL divergence=[0.], Entropy=[-0.24226926], training epoch=6, learning_rate=0.0001\u001b[0m\n",
      "\u001b[31mPolicy training> Surrogate loss=0.028585487976670265, KL divergence=[0.], Entropy=[-0.24227251], training epoch=7, learning_rate=0.0001\u001b[0m\n",
      "\u001b[31mPolicy training> Surrogate loss=0.027281712740659714, KL divergence=[0.], Entropy=[-0.2422781], training epoch=8, learning_rate=0.0001\u001b[0m\n",
      "\u001b[31mPolicy training> Surrogate loss=0.024092622101306915, KL divergence=[0.], Entropy=[-0.24227947], training epoch=9, learning_rate=0.0001\u001b[0m\n",
      "\u001b[31mTraining> Name=main_level/agent, Worker=0, Episode=32, Total reward=-3.04, Steps=32182, Training iteration=15\u001b[0m\n",
      "\u001b[31m## agent: Starting evaluation phase\u001b[0m\n",
      "\u001b[31mTesting> Name=main_level/agent, Worker=0, Episode=32, Total reward=-0.02, Steps=32768, Training iteration=15\u001b[0m\n",
      "\u001b[31mTesting> Name=main_level/agent, Worker=0, Episode=32, Total reward=-0.48, Steps=32768, Training iteration=15\u001b[0m\n",
      "\u001b[31mTesting> Name=main_level/agent, Worker=0, Episode=32, Total reward=-0.36, Steps=32768, Training iteration=15\u001b[0m\n",
      "\u001b[31mTesting> Name=main_level/agent, Worker=0, Episode=32, Total reward=-0.09, Steps=32768, Training iteration=15\u001b[0m\n",
      "\u001b[31mTesting> Name=main_level/agent, Worker=0, Episode=32, Total reward=-0.14, Steps=32768, Training iteration=15\u001b[0m\n",
      "\u001b[31m## agent: Finished evaluation phase. Success rate = 0.0, Avg Total Reward = -0.22\u001b[0m\n",
      "\u001b[31mCheckpoint> Saving in path=['/opt/ml/output/data/checkpoint/17_Step-32769.ckpt.main_level.agent.main.online']\u001b[0m\n",
      "\u001b[31mTraining> Name=main_level/agent, Worker=0, Episode=33, Total reward=-3.29, Steps=33499, Training iteration=15\u001b[0m\n",
      "\u001b[31mPolicy training> Surrogate loss=0.03379527106881142, KL divergence=[0.], Entropy=[-0.24229535], training epoch=0, learning_rate=0.0001\u001b[0m\n",
      "\u001b[31mPolicy training> Surrogate loss=0.03478504717350006, KL divergence=[0.], Entropy=[-0.24232], training epoch=1, learning_rate=0.0001\u001b[0m\n",
      "\u001b[31mPolicy training> Surrogate loss=0.03679564222693443, KL divergence=[0.], Entropy=[-0.2423202], training epoch=2, learning_rate=0.0001\u001b[0m\n",
      "\u001b[31mPolicy training> Surrogate loss=0.017771290615200996, KL divergence=[0.], Entropy=[-0.24233085], training epoch=3, learning_rate=0.0001\u001b[0m\n",
      "\u001b[31mPolicy training> Surrogate loss=0.040723808109760284, KL divergence=[0.], Entropy=[-0.24234962], training epoch=4, learning_rate=0.0001\u001b[0m\n",
      "\u001b[31mPolicy training> Surrogate loss=0.014397465623915195, KL divergence=[0.], Entropy=[-0.24236217], training epoch=5, learning_rate=0.0001\u001b[0m\n",
      "\u001b[31mPolicy training> Surrogate loss=0.016916902735829353, KL divergence=[0.], Entropy=[-0.2423591], training epoch=6, learning_rate=0.0001\u001b[0m\n",
      "\u001b[31mPolicy training> Surrogate loss=0.03938184678554535, KL divergence=[0.], Entropy=[-0.24237126], training epoch=7, learning_rate=0.0001\u001b[0m\n",
      "\u001b[31mPolicy training> Surrogate loss=0.026280511170625687, KL divergence=[0.], Entropy=[-0.242407], training epoch=8, learning_rate=0.0001\u001b[0m\n",
      "\u001b[31mPolicy training> Surrogate loss=0.012303567491471767, KL divergence=[0.], Entropy=[-0.24241534], training epoch=9, learning_rate=0.0001\u001b[0m\n",
      "\u001b[31mTraining> Name=main_level/agent, Worker=0, Episode=34, Total reward=-3.36, Steps=34230, Training iteration=16\u001b[0m\n",
      "\u001b[31m## agent: Starting evaluation phase\u001b[0m\n",
      "\u001b[31mTesting> Name=main_level/agent, Worker=0, Episode=34, Total reward=-0.33, Steps=34816, Training iteration=16\u001b[0m\n",
      "\u001b[31mTesting> Name=main_level/agent, Worker=0, Episode=34, Total reward=-0.14, Steps=34816, Training iteration=16\u001b[0m\n",
      "\u001b[31mTesting> Name=main_level/agent, Worker=0, Episode=34, Total reward=-0.17, Steps=34816, Training iteration=16\u001b[0m\n",
      "\u001b[31mTesting> Name=main_level/agent, Worker=0, Episode=34, Total reward=-0.36, Steps=34816, Training iteration=16\u001b[0m\n",
      "\u001b[31mTesting> Name=main_level/agent, Worker=0, Episode=34, Total reward=-0.49, Steps=34816, Training iteration=16\u001b[0m\n",
      "\u001b[31m## agent: Finished evaluation phase. Success rate = 0.0, Avg Total Reward = -0.3\u001b[0m\n",
      "\u001b[31mCheckpoint> Saving in path=['/opt/ml/output/data/checkpoint/18_Step-34817.ckpt.main_level.agent.main.online']\u001b[0m\n",
      "\u001b[31mTraining> Name=main_level/agent, Worker=0, Episode=35, Total reward=-2.53, Steps=35547, Training iteration=16\u001b[0m\n",
      "\u001b[31mPolicy training> Surrogate loss=0.028111612424254417, KL divergence=[0.], Entropy=[-0.24241805], training epoch=0, learning_rate=0.0001\u001b[0m\n"
     ]
    },
    {
     "name": "stdout",
     "output_type": "stream",
     "text": [
      "\u001b[31mPolicy training> Surrogate loss=0.02929091267287731, KL divergence=[0.], Entropy=[-0.24243107], training epoch=1, learning_rate=0.0001\u001b[0m\n",
      "\u001b[31mPolicy training> Surrogate loss=0.0258175116032362, KL divergence=[0.], Entropy=[-0.242452], training epoch=2, learning_rate=0.0001\u001b[0m\n",
      "\u001b[31mPolicy training> Surrogate loss=0.03124210424721241, KL divergence=[0.], Entropy=[-0.24247576], training epoch=3, learning_rate=0.0001\u001b[0m\n",
      "\u001b[31mPolicy training> Surrogate loss=0.02461860328912735, KL divergence=[0.], Entropy=[-0.24249396], training epoch=4, learning_rate=0.0001\u001b[0m\n",
      "\u001b[31mPolicy training> Surrogate loss=0.01864749938249588, KL divergence=[0.], Entropy=[-0.24249868], training epoch=5, learning_rate=0.0001\u001b[0m\n",
      "\u001b[31mPolicy training> Surrogate loss=0.019830407574772835, KL divergence=[0.], Entropy=[-0.24250741], training epoch=6, learning_rate=0.0001\u001b[0m\n",
      "\u001b[31mPolicy training> Surrogate loss=0.02987232804298401, KL divergence=[0.], Entropy=[-0.24253355], training epoch=7, learning_rate=0.0001\u001b[0m\n",
      "\u001b[31mPolicy training> Surrogate loss=0.02735915593802929, KL divergence=[0.], Entropy=[-0.24256445], training epoch=8, learning_rate=0.0001\u001b[0m\n",
      "\u001b[31mPolicy training> Surrogate loss=0.02063242346048355, KL divergence=[0.], Entropy=[-0.24258518], training epoch=9, learning_rate=0.0001\u001b[0m\n",
      "\u001b[31mTraining> Name=main_level/agent, Worker=0, Episode=36, Total reward=-3.33, Steps=36278, Training iteration=17\u001b[0m\n",
      "\u001b[31m## agent: Starting evaluation phase\u001b[0m\n",
      "\u001b[31mTesting> Name=main_level/agent, Worker=0, Episode=36, Total reward=-0.57, Steps=36864, Training iteration=17\u001b[0m\n",
      "\u001b[31mTesting> Name=main_level/agent, Worker=0, Episode=36, Total reward=-0.39, Steps=36864, Training iteration=17\u001b[0m\n",
      "\u001b[31mTesting> Name=main_level/agent, Worker=0, Episode=36, Total reward=-0.27, Steps=36864, Training iteration=17\u001b[0m\n",
      "\u001b[31mTesting> Name=main_level/agent, Worker=0, Episode=36, Total reward=-0.37, Steps=36864, Training iteration=17\u001b[0m\n",
      "\u001b[31mTesting> Name=main_level/agent, Worker=0, Episode=36, Total reward=-0.16, Steps=36864, Training iteration=17\u001b[0m\n",
      "\u001b[31m## agent: Finished evaluation phase. Success rate = 0.0, Avg Total Reward = -0.35\u001b[0m\n",
      "\u001b[31mCheckpoint> Saving in path=['/opt/ml/output/data/checkpoint/19_Step-36865.ckpt.main_level.agent.main.online']\u001b[0m\n",
      "\u001b[31mTraining> Name=main_level/agent, Worker=0, Episode=37, Total reward=-2.94, Steps=37595, Training iteration=17\u001b[0m\n",
      "\u001b[31mPolicy training> Surrogate loss=0.024825451895594597, KL divergence=[0.], Entropy=[-0.24260546], training epoch=0, learning_rate=0.0001\u001b[0m\n",
      "\u001b[31mPolicy training> Surrogate loss=0.04923397675156593, KL divergence=[0.], Entropy=[-0.24265505], training epoch=1, learning_rate=0.0001\u001b[0m\n",
      "\u001b[31mPolicy training> Surrogate loss=0.027922987937927246, KL divergence=[0.], Entropy=[-0.24269623], training epoch=2, learning_rate=0.0001\u001b[0m\n",
      "\u001b[31mPolicy training> Surrogate loss=0.041253525763750076, KL divergence=[0.], Entropy=[-0.2427227], training epoch=3, learning_rate=0.0001\u001b[0m\n",
      "\u001b[31mPolicy training> Surrogate loss=0.03886695206165314, KL divergence=[0.], Entropy=[-0.24273524], training epoch=4, learning_rate=0.0001\u001b[0m\n",
      "\u001b[31mPolicy training> Surrogate loss=0.030751051381230354, KL divergence=[0.], Entropy=[-0.24274735], training epoch=5, learning_rate=0.0001\u001b[0m\n",
      "\u001b[31mPolicy training> Surrogate loss=0.02403402328491211, KL divergence=[0.], Entropy=[-0.24276061], training epoch=6, learning_rate=0.0001\u001b[0m\n",
      "\u001b[31mPolicy training> Surrogate loss=0.014573589898645878, KL divergence=[0.], Entropy=[-0.24277334], training epoch=7, learning_rate=0.0001\u001b[0m\n",
      "\u001b[31mPolicy training> Surrogate loss=0.014198962599039078, KL divergence=[0.], Entropy=[-0.2427938], training epoch=8, learning_rate=0.0001\u001b[0m\n",
      "\u001b[31mPolicy training> Surrogate loss=0.03182353079319, KL divergence=[0.], Entropy=[-0.24281989], training epoch=9, learning_rate=0.0001\u001b[0m\n",
      "\u001b[31mTraining> Name=main_level/agent, Worker=0, Episode=38, Total reward=-2.69, Steps=38326, Training iteration=18\u001b[0m\n",
      "\u001b[31m## agent: Starting evaluation phase\u001b[0m\n",
      "\u001b[31mTesting> Name=main_level/agent, Worker=0, Episode=38, Total reward=-0.24, Steps=38912, Training iteration=18\u001b[0m\n",
      "\u001b[31mTesting> Name=main_level/agent, Worker=0, Episode=38, Total reward=-0.44, Steps=38912, Training iteration=18\u001b[0m\n",
      "\u001b[31mTesting> Name=main_level/agent, Worker=0, Episode=38, Total reward=-0.21, Steps=38912, Training iteration=18\u001b[0m\n",
      "\u001b[31mTesting> Name=main_level/agent, Worker=0, Episode=38, Total reward=-0.2, Steps=38912, Training iteration=18\u001b[0m\n",
      "\u001b[31mTesting> Name=main_level/agent, Worker=0, Episode=38, Total reward=-0.19, Steps=38912, Training iteration=18\u001b[0m\n",
      "\u001b[31m## agent: Finished evaluation phase. Success rate = 0.0, Avg Total Reward = -0.25\u001b[0m\n",
      "\u001b[31mCheckpoint> Saving in path=['/opt/ml/output/data/checkpoint/20_Step-38913.ckpt.main_level.agent.main.online']\u001b[0m\n",
      "\u001b[31mTraining> Name=main_level/agent, Worker=0, Episode=39, Total reward=-3.05, Steps=39643, Training iteration=18\u001b[0m\n",
      "\u001b[31mPolicy training> Surrogate loss=0.043357327580451965, KL divergence=[0.], Entropy=[-0.24284929], training epoch=0, learning_rate=0.0001\u001b[0m\n",
      "\u001b[31mPolicy training> Surrogate loss=0.030399970710277557, KL divergence=[0.], Entropy=[-0.24286205], training epoch=1, learning_rate=0.0001\u001b[0m\n",
      "\u001b[31mPolicy training> Surrogate loss=0.025257164612412453, KL divergence=[0.], Entropy=[-0.24287748], training epoch=2, learning_rate=0.0001\u001b[0m\n",
      "\u001b[31mPolicy training> Surrogate loss=0.02219696156680584, KL divergence=[0.], Entropy=[-0.24289612], training epoch=3, learning_rate=0.0001\u001b[0m\n",
      "\u001b[31mPolicy training> Surrogate loss=0.018849484622478485, KL divergence=[0.], Entropy=[-0.24291755], training epoch=4, learning_rate=0.0001\u001b[0m\n",
      "\u001b[31mPolicy training> Surrogate loss=0.03254416212439537, KL divergence=[0.], Entropy=[-0.24292058], training epoch=5, learning_rate=0.0001\u001b[0m\n",
      "\u001b[31mPolicy training> Surrogate loss=0.033561233431100845, KL divergence=[0.], Entropy=[-0.24293251], training epoch=6, learning_rate=0.0001\u001b[0m\n",
      "\u001b[31mPolicy training> Surrogate loss=0.007567383348941803, KL divergence=[0.], Entropy=[-0.24296278], training epoch=7, learning_rate=0.0001\u001b[0m\n",
      "\u001b[31mPolicy training> Surrogate loss=0.0209713876247406, KL divergence=[0.], Entropy=[-0.24297957], training epoch=8, learning_rate=0.0001\u001b[0m\n",
      "\u001b[31mPolicy training> Surrogate loss=0.01699201762676239, KL divergence=[0.], Entropy=[-0.24299145], training epoch=9, learning_rate=0.0001\u001b[0m\n",
      "\u001b[31mTraining> Name=main_level/agent, Worker=0, Episode=40, Total reward=-2.79, Steps=40374, Training iteration=19\u001b[0m\n",
      "\u001b[31m## agent: Starting evaluation phase\u001b[0m\n",
      "\u001b[31mTesting> Name=main_level/agent, Worker=0, Episode=40, Total reward=-0.26, Steps=40960, Training iteration=19\u001b[0m\n",
      "\u001b[31mTesting> Name=main_level/agent, Worker=0, Episode=40, Total reward=-0.65, Steps=40960, Training iteration=19\u001b[0m\n",
      "\u001b[31mTesting> Name=main_level/agent, Worker=0, Episode=40, Total reward=0.01, Steps=40960, Training iteration=19\u001b[0m\n",
      "\u001b[31mTesting> Name=main_level/agent, Worker=0, Episode=40, Total reward=0.21, Steps=40960, Training iteration=19\u001b[0m\n",
      "\u001b[31mTesting> Name=main_level/agent, Worker=0, Episode=40, Total reward=-0.64, Steps=40960, Training iteration=19\u001b[0m\n",
      "\u001b[31m## agent: Finished evaluation phase. Success rate = 0.0, Avg Total Reward = -0.27\u001b[0m\n",
      "\u001b[31mCheckpoint> Saving in path=['/opt/ml/output/data/checkpoint/21_Step-40961.ckpt.main_level.agent.main.online']\u001b[0m\n",
      "\u001b[31mTraining> Name=main_level/agent, Worker=0, Episode=41, Total reward=-3.05, Steps=41691, Training iteration=19\u001b[0m\n",
      "\u001b[31mPolicy training> Surrogate loss=0.01929544098675251, KL divergence=[0.], Entropy=[-0.24299921], training epoch=0, learning_rate=0.0001\u001b[0m\n",
      "\u001b[31mPolicy training> Surrogate loss=0.03665941581130028, KL divergence=[0.], Entropy=[-0.2429911], training epoch=1, learning_rate=0.0001\u001b[0m\n",
      "\u001b[31mPolicy training> Surrogate loss=0.03277822956442833, KL divergence=[0.], Entropy=[-0.24301009], training epoch=2, learning_rate=0.0001\u001b[0m\n",
      "\u001b[31mPolicy training> Surrogate loss=0.040378496050834656, KL divergence=[0.], Entropy=[-0.24301209], training epoch=3, learning_rate=0.0001\u001b[0m\n",
      "\u001b[31mPolicy training> Surrogate loss=0.02998800203204155, KL divergence=[0.], Entropy=[-0.24301119], training epoch=4, learning_rate=0.0001\u001b[0m\n",
      "\u001b[31mPolicy training> Surrogate loss=0.024873310700058937, KL divergence=[0.], Entropy=[-0.24302272], training epoch=5, learning_rate=0.0001\u001b[0m\n",
      "\u001b[31mPolicy training> Surrogate loss=0.019742676988244057, KL divergence=[0.], Entropy=[-0.24302484], training epoch=6, learning_rate=0.0001\u001b[0m\n",
      "\u001b[31mPolicy training> Surrogate loss=0.03340623527765274, KL divergence=[0.], Entropy=[-0.24302182], training epoch=7, learning_rate=0.0001\u001b[0m\n",
      "\u001b[31mPolicy training> Surrogate loss=0.02756982296705246, KL divergence=[0.], Entropy=[-0.24303694], training epoch=8, learning_rate=0.0001\u001b[0m\n",
      "\u001b[31mPolicy training> Surrogate loss=0.03766647353768349, KL divergence=[0.], Entropy=[-0.24304275], training epoch=9, learning_rate=0.0001\u001b[0m\n",
      "\u001b[31mTraining> Name=main_level/agent, Worker=0, Episode=42, Total reward=-2.53, Steps=42422, Training iteration=20\u001b[0m\n"
     ]
    },
    {
     "name": "stdout",
     "output_type": "stream",
     "text": [
      "\u001b[31m## agent: Starting evaluation phase\u001b[0m\n",
      "\u001b[31mTesting> Name=main_level/agent, Worker=0, Episode=42, Total reward=-0.52, Steps=43008, Training iteration=20\u001b[0m\n",
      "\u001b[31mTesting> Name=main_level/agent, Worker=0, Episode=42, Total reward=-0.5, Steps=43008, Training iteration=20\u001b[0m\n",
      "\u001b[31mTesting> Name=main_level/agent, Worker=0, Episode=42, Total reward=-0.12, Steps=43008, Training iteration=20\u001b[0m\n",
      "\u001b[31mTesting> Name=main_level/agent, Worker=0, Episode=42, Total reward=-0.1, Steps=43008, Training iteration=20\u001b[0m\n",
      "\u001b[31mTesting> Name=main_level/agent, Worker=0, Episode=42, Total reward=-0.23, Steps=43008, Training iteration=20\u001b[0m\n",
      "\u001b[31m## agent: Finished evaluation phase. Success rate = 0.0, Avg Total Reward = -0.29\u001b[0m\n",
      "\u001b[31mCheckpoint> Saving in path=['/opt/ml/output/data/checkpoint/22_Step-43009.ckpt.main_level.agent.main.online']\u001b[0m\n",
      "\u001b[31mTraining> Name=main_level/agent, Worker=0, Episode=43, Total reward=-2.98, Steps=43739, Training iteration=20\u001b[0m\n",
      "\u001b[31mPolicy training> Surrogate loss=0.028742752969264984, KL divergence=[0.], Entropy=[-0.24304293], training epoch=0, learning_rate=0.0001\u001b[0m\n",
      "\u001b[31mPolicy training> Surrogate loss=0.030330955982208252, KL divergence=[0.], Entropy=[-0.24305859], training epoch=1, learning_rate=0.0001\u001b[0m\n",
      "\u001b[31mPolicy training> Surrogate loss=0.03801841661334038, KL divergence=[0.], Entropy=[-0.24306689], training epoch=2, learning_rate=0.0001\u001b[0m\n",
      "\u001b[31mPolicy training> Surrogate loss=0.03761772811412811, KL divergence=[0.], Entropy=[-0.24306847], training epoch=3, learning_rate=0.0001\u001b[0m\n",
      "\u001b[31mPolicy training> Surrogate loss=0.025461940094828606, KL divergence=[0.], Entropy=[-0.24308325], training epoch=4, learning_rate=0.0001\u001b[0m\n",
      "\u001b[31mPolicy training> Surrogate loss=0.01765601523220539, KL divergence=[0.], Entropy=[-0.24312271], training epoch=5, learning_rate=0.0001\u001b[0m\n",
      "\u001b[31mPolicy training> Surrogate loss=0.036477651447057724, KL divergence=[0.], Entropy=[-0.2431569], training epoch=6, learning_rate=0.0001\u001b[0m\n",
      "\u001b[31mPolicy training> Surrogate loss=0.022116631269454956, KL divergence=[0.], Entropy=[-0.24317098], training epoch=7, learning_rate=0.0001\u001b[0m\n",
      "\u001b[31mPolicy training> Surrogate loss=0.03366559371352196, KL divergence=[0.], Entropy=[-0.2431995], training epoch=8, learning_rate=0.0001\u001b[0m\n",
      "\u001b[31mPolicy training> Surrogate loss=0.04091690108180046, KL divergence=[0.], Entropy=[-0.24321376], training epoch=9, learning_rate=0.0001\u001b[0m\n",
      "\u001b[31mTraining> Name=main_level/agent, Worker=0, Episode=44, Total reward=-2.45, Steps=44470, Training iteration=21\u001b[0m\n",
      "\u001b[31m## agent: Starting evaluation phase\u001b[0m\n",
      "\u001b[31mTesting> Name=main_level/agent, Worker=0, Episode=44, Total reward=-0.47, Steps=45056, Training iteration=21\u001b[0m\n",
      "\u001b[31mTesting> Name=main_level/agent, Worker=0, Episode=44, Total reward=-0.08, Steps=45056, Training iteration=21\u001b[0m\n",
      "\u001b[31mTesting> Name=main_level/agent, Worker=0, Episode=44, Total reward=-0.11, Steps=45056, Training iteration=21\u001b[0m\n",
      "\u001b[31mTesting> Name=main_level/agent, Worker=0, Episode=44, Total reward=-0.21, Steps=45056, Training iteration=21\u001b[0m\n",
      "\u001b[31mTesting> Name=main_level/agent, Worker=0, Episode=44, Total reward=-0.45, Steps=45056, Training iteration=21\u001b[0m\n",
      "\u001b[31m## agent: Finished evaluation phase. Success rate = 0.0, Avg Total Reward = -0.26\u001b[0m\n",
      "\u001b[31mCheckpoint> Saving in path=['/opt/ml/output/data/checkpoint/23_Step-45057.ckpt.main_level.agent.main.online']\u001b[0m\n",
      "\u001b[31mTraining> Name=main_level/agent, Worker=0, Episode=45, Total reward=-2.79, Steps=45787, Training iteration=21\u001b[0m\n",
      "\u001b[31mPolicy training> Surrogate loss=0.0306970477104187, KL divergence=[0.], Entropy=[-0.2432267], training epoch=0, learning_rate=0.0001\u001b[0m\n",
      "\u001b[31mPolicy training> Surrogate loss=0.03696691244840622, KL divergence=[0.], Entropy=[-0.2432341], training epoch=1, learning_rate=0.0001\u001b[0m\n",
      "\u001b[31mPolicy training> Surrogate loss=0.03790518641471863, KL divergence=[0.], Entropy=[-0.24322815], training epoch=2, learning_rate=0.0001\u001b[0m\n",
      "\u001b[31mPolicy training> Surrogate loss=0.058992255479097366, KL divergence=[0.], Entropy=[-0.24324593], training epoch=3, learning_rate=0.0001\u001b[0m\n",
      "\u001b[31mPolicy training> Surrogate loss=0.04299887269735336, KL divergence=[0.], Entropy=[-0.24328232], training epoch=4, learning_rate=0.0001\u001b[0m\n",
      "\u001b[31mPolicy training> Surrogate loss=0.020764455199241638, KL divergence=[0.], Entropy=[-0.24329457], training epoch=5, learning_rate=0.0001\u001b[0m\n",
      "\u001b[31mPolicy training> Surrogate loss=0.02925027161836624, KL divergence=[0.], Entropy=[-0.2433063], training epoch=6, learning_rate=0.0001\u001b[0m\n",
      "\u001b[31mPolicy training> Surrogate loss=0.04052002727985382, KL divergence=[0.], Entropy=[-0.243315], training epoch=7, learning_rate=0.0001\u001b[0m\n",
      "\u001b[31mPolicy training> Surrogate loss=0.03401249647140503, KL divergence=[0.], Entropy=[-0.24332161], training epoch=8, learning_rate=0.0001\u001b[0m\n",
      "\u001b[31mPolicy training> Surrogate loss=0.040614042431116104, KL divergence=[0.], Entropy=[-0.24333316], training epoch=9, learning_rate=0.0001\u001b[0m\n",
      "\u001b[31mTraining> Name=main_level/agent, Worker=0, Episode=46, Total reward=-2.29, Steps=46518, Training iteration=22\u001b[0m\n",
      "\u001b[31m## agent: Starting evaluation phase\u001b[0m\n",
      "\u001b[31mTesting> Name=main_level/agent, Worker=0, Episode=46, Total reward=-0.16, Steps=47104, Training iteration=22\u001b[0m\n",
      "\u001b[31mTesting> Name=main_level/agent, Worker=0, Episode=46, Total reward=0.11, Steps=47104, Training iteration=22\u001b[0m\n",
      "\u001b[31mTesting> Name=main_level/agent, Worker=0, Episode=46, Total reward=-0.23, Steps=47104, Training iteration=22\u001b[0m\n",
      "\u001b[31mTesting> Name=main_level/agent, Worker=0, Episode=46, Total reward=0.33, Steps=47104, Training iteration=22\u001b[0m\n",
      "\u001b[31mTesting> Name=main_level/agent, Worker=0, Episode=46, Total reward=-0.02, Steps=47104, Training iteration=22\u001b[0m\n",
      "\u001b[31m## agent: Finished evaluation phase. Success rate = 0.0, Avg Total Reward = 0.01\u001b[0m\n",
      "\u001b[31mCheckpoint> Saving in path=['/opt/ml/output/data/checkpoint/24_Step-47105.ckpt.main_level.agent.main.online']\u001b[0m\n",
      "\u001b[31mTraining> Name=main_level/agent, Worker=0, Episode=47, Total reward=-2.69, Steps=47835, Training iteration=22\u001b[0m\n",
      "\u001b[31mPolicy training> Surrogate loss=0.036067262291908264, KL divergence=[0.], Entropy=[-0.24335462], training epoch=0, learning_rate=0.0001\u001b[0m\n",
      "\u001b[31mPolicy training> Surrogate loss=0.021119501441717148, KL divergence=[0.], Entropy=[-0.24339093], training epoch=1, learning_rate=0.0001\u001b[0m\n",
      "\u001b[31mPolicy training> Surrogate loss=0.011448245495557785, KL divergence=[0.], Entropy=[-0.24342093], training epoch=2, learning_rate=0.0001\u001b[0m\n",
      "\u001b[31mPolicy training> Surrogate loss=0.023843469098210335, KL divergence=[0.], Entropy=[-0.2434522], training epoch=3, learning_rate=0.0001\u001b[0m\n",
      "\u001b[31mPolicy training> Surrogate loss=0.029043175280094147, KL divergence=[0.], Entropy=[-0.24346972], training epoch=4, learning_rate=0.0001\u001b[0m\n",
      "\u001b[31mPolicy training> Surrogate loss=0.02234245464205742, KL divergence=[0.], Entropy=[-0.24349175], training epoch=5, learning_rate=0.0001\u001b[0m\n",
      "\u001b[31mPolicy training> Surrogate loss=0.025212615728378296, KL divergence=[0.], Entropy=[-0.24352191], training epoch=6, learning_rate=0.0001\u001b[0m\n",
      "\u001b[31mPolicy training> Surrogate loss=0.02625477872788906, KL divergence=[0.], Entropy=[-0.24355532], training epoch=7, learning_rate=0.0001\u001b[0m\n",
      "\u001b[31mPolicy training> Surrogate loss=0.03855782374739647, KL divergence=[0.], Entropy=[-0.24357814], training epoch=8, learning_rate=0.0001\u001b[0m\n",
      "\u001b[31mPolicy training> Surrogate loss=0.03131304681301117, KL divergence=[0.], Entropy=[-0.24360552], training epoch=9, learning_rate=0.0001\u001b[0m\n",
      "\u001b[31mTraining> Name=main_level/agent, Worker=0, Episode=48, Total reward=-2.61, Steps=48566, Training iteration=23\u001b[0m\n",
      "\u001b[31m## agent: Starting evaluation phase\u001b[0m\n",
      "\u001b[31mTesting> Name=main_level/agent, Worker=0, Episode=48, Total reward=-0.19, Steps=49152, Training iteration=23\u001b[0m\n",
      "\u001b[31mTesting> Name=main_level/agent, Worker=0, Episode=48, Total reward=-0.43, Steps=49152, Training iteration=23\u001b[0m\n",
      "\u001b[31mTesting> Name=main_level/agent, Worker=0, Episode=48, Total reward=-0.7, Steps=49152, Training iteration=23\u001b[0m\n",
      "\u001b[31mTesting> Name=main_level/agent, Worker=0, Episode=48, Total reward=-0.19, Steps=49152, Training iteration=23\u001b[0m\n",
      "\u001b[31mTesting> Name=main_level/agent, Worker=0, Episode=48, Total reward=-0.35, Steps=49152, Training iteration=23\u001b[0m\n",
      "\u001b[31m## agent: Finished evaluation phase. Success rate = 0.0, Avg Total Reward = -0.37\u001b[0m\n",
      "\u001b[31mCheckpoint> Saving in path=['/opt/ml/output/data/checkpoint/25_Step-49153.ckpt.main_level.agent.main.online']\u001b[0m\n",
      "\u001b[31mTraining> Name=main_level/agent, Worker=0, Episode=49, Total reward=-2.53, Steps=49883, Training iteration=23\u001b[0m\n",
      "\u001b[31mPolicy training> Surrogate loss=0.03671504929661751, KL divergence=[0.], Entropy=[-0.24361697], training epoch=0, learning_rate=0.0001\u001b[0m\n"
     ]
    },
    {
     "name": "stdout",
     "output_type": "stream",
     "text": [
      "\u001b[31mPolicy training> Surrogate loss=0.04346982389688492, KL divergence=[0.], Entropy=[-0.24362893], training epoch=1, learning_rate=0.0001\u001b[0m\n",
      "\u001b[31mPolicy training> Surrogate loss=0.04147516191005707, KL divergence=[0.], Entropy=[-0.24366535], training epoch=2, learning_rate=0.0001\u001b[0m\n",
      "\u001b[31mPolicy training> Surrogate loss=0.01816238835453987, KL divergence=[0.], Entropy=[-0.24369612], training epoch=3, learning_rate=0.0001\u001b[0m\n",
      "\u001b[31mPolicy training> Surrogate loss=0.022480951622128487, KL divergence=[0.], Entropy=[-0.24372528], training epoch=4, learning_rate=0.0001\u001b[0m\n",
      "\u001b[31mPolicy training> Surrogate loss=0.03072584792971611, KL divergence=[0.], Entropy=[-0.24375315], training epoch=5, learning_rate=0.0001\u001b[0m\n",
      "\u001b[31mPolicy training> Surrogate loss=0.017373325303196907, KL divergence=[0.], Entropy=[-0.24378549], training epoch=6, learning_rate=0.0001\u001b[0m\n",
      "\u001b[31mPolicy training> Surrogate loss=0.019901566207408905, KL divergence=[0.], Entropy=[-0.24382019], training epoch=7, learning_rate=0.0001\u001b[0m\n",
      "\u001b[31mPolicy training> Surrogate loss=0.02278904803097248, KL divergence=[0.], Entropy=[-0.2438579], training epoch=8, learning_rate=0.0001\u001b[0m\n",
      "\u001b[31mPolicy training> Surrogate loss=0.02648627944290638, KL divergence=[0.], Entropy=[-0.2438871], training epoch=9, learning_rate=0.0001\u001b[0m\n",
      "\u001b[31mTraining> Name=main_level/agent, Worker=0, Episode=50, Total reward=-2.57, Steps=50614, Training iteration=24\u001b[0m\n",
      "\u001b[31m## agent: Starting evaluation phase\u001b[0m\n",
      "\u001b[31mTesting> Name=main_level/agent, Worker=0, Episode=50, Total reward=-0.28, Steps=51200, Training iteration=24\u001b[0m\n",
      "\u001b[31mTesting> Name=main_level/agent, Worker=0, Episode=50, Total reward=0.26, Steps=51200, Training iteration=24\u001b[0m\n",
      "\u001b[31mTesting> Name=main_level/agent, Worker=0, Episode=50, Total reward=-0.46, Steps=51200, Training iteration=24\u001b[0m\n",
      "\u001b[31mTesting> Name=main_level/agent, Worker=0, Episode=50, Total reward=-0.24, Steps=51200, Training iteration=24\u001b[0m\n",
      "\u001b[31mTesting> Name=main_level/agent, Worker=0, Episode=50, Total reward=-0.77, Steps=51200, Training iteration=24\u001b[0m\n",
      "\u001b[31m## agent: Finished evaluation phase. Success rate = 0.0, Avg Total Reward = -0.3\u001b[0m\n",
      "\u001b[31mCheckpoint> Saving in path=['/opt/ml/output/data/checkpoint/26_Step-51201.ckpt.main_level.agent.main.online']\u001b[0m\n",
      "\u001b[31mTraining> Name=main_level/agent, Worker=0, Episode=51, Total reward=-2.38, Steps=51931, Training iteration=24\u001b[0m\n",
      "\u001b[31mPolicy training> Surrogate loss=0.017769450321793556, KL divergence=[0.], Entropy=[-0.24391168], training epoch=0, learning_rate=0.0001\u001b[0m\n",
      "\u001b[31mPolicy training> Surrogate loss=0.03175228461623192, KL divergence=[0.], Entropy=[-0.24392834], training epoch=1, learning_rate=0.0001\u001b[0m\n",
      "\u001b[31mPolicy training> Surrogate loss=0.025863928720355034, KL divergence=[0.], Entropy=[-0.2439395], training epoch=2, learning_rate=0.0001\u001b[0m\n",
      "\u001b[31mPolicy training> Surrogate loss=0.023628337308764458, KL divergence=[0.], Entropy=[-0.24394403], training epoch=3, learning_rate=0.0001\u001b[0m\n",
      "\u001b[31mPolicy training> Surrogate loss=0.04122862592339516, KL divergence=[0.], Entropy=[-0.24394582], training epoch=4, learning_rate=0.0001\u001b[0m\n",
      "\u001b[31mPolicy training> Surrogate loss=0.02875806763768196, KL divergence=[0.], Entropy=[-0.24394926], training epoch=5, learning_rate=0.0001\u001b[0m\n",
      "\u001b[31mPolicy training> Surrogate loss=0.03410770744085312, KL divergence=[0.], Entropy=[-0.24397157], training epoch=6, learning_rate=0.0001\u001b[0m\n",
      "\u001b[31mPolicy training> Surrogate loss=0.030271464958786964, KL divergence=[0.], Entropy=[-0.2439604], training epoch=7, learning_rate=0.0001\u001b[0m\n",
      "\u001b[31mPolicy training> Surrogate loss=0.022111298516392708, KL divergence=[0.], Entropy=[-0.24396673], training epoch=8, learning_rate=0.0001\u001b[0m\n",
      "\u001b[31mPolicy training> Surrogate loss=0.022476667538285255, KL divergence=[0.], Entropy=[-0.24398327], training epoch=9, learning_rate=0.0001\u001b[0m\n",
      "\u001b[31mTraining> Name=main_level/agent, Worker=0, Episode=52, Total reward=-2.42, Steps=52662, Training iteration=25\u001b[0m\n",
      "\u001b[31m## agent: Starting evaluation phase\u001b[0m\n",
      "\u001b[31mTesting> Name=main_level/agent, Worker=0, Episode=52, Total reward=-0.38, Steps=53248, Training iteration=25\u001b[0m\n",
      "\u001b[31mTesting> Name=main_level/agent, Worker=0, Episode=52, Total reward=-0.27, Steps=53248, Training iteration=25\u001b[0m\n",
      "\u001b[31mTesting> Name=main_level/agent, Worker=0, Episode=52, Total reward=-0.52, Steps=53248, Training iteration=25\u001b[0m\n",
      "\u001b[31mTesting> Name=main_level/agent, Worker=0, Episode=52, Total reward=-0.15, Steps=53248, Training iteration=25\u001b[0m\n",
      "\u001b[31mTesting> Name=main_level/agent, Worker=0, Episode=52, Total reward=-0.24, Steps=53248, Training iteration=25\u001b[0m\n",
      "\u001b[31m## agent: Finished evaluation phase. Success rate = 0.0, Avg Total Reward = -0.31\u001b[0m\n",
      "\u001b[31mCheckpoint> Saving in path=['/opt/ml/output/data/checkpoint/27_Step-53249.ckpt.main_level.agent.main.online']\u001b[0m\n",
      "\u001b[31mTraining> Name=main_level/agent, Worker=0, Episode=53, Total reward=-3.04, Steps=53979, Training iteration=25\u001b[0m\n",
      "\u001b[31mPolicy training> Surrogate loss=0.026407087221741676, KL divergence=[0.], Entropy=[-0.24399868], training epoch=0, learning_rate=0.0001\u001b[0m\n",
      "\u001b[31mPolicy training> Surrogate loss=0.02406737394630909, KL divergence=[0.], Entropy=[-0.24402909], training epoch=1, learning_rate=0.0001\u001b[0m\n",
      "\u001b[31mPolicy training> Surrogate loss=0.02782568521797657, KL divergence=[0.], Entropy=[-0.2440621], training epoch=2, learning_rate=0.0001\u001b[0m\n",
      "\u001b[31mPolicy training> Surrogate loss=0.027128690853714943, KL divergence=[0.], Entropy=[-0.24408938], training epoch=3, learning_rate=0.0001\u001b[0m\n",
      "\u001b[31mPolicy training> Surrogate loss=0.03395025059580803, KL divergence=[0.], Entropy=[-0.24410605], training epoch=4, learning_rate=0.0001\u001b[0m\n",
      "\u001b[31mPolicy training> Surrogate loss=0.02552124112844467, KL divergence=[0.], Entropy=[-0.24411581], training epoch=5, learning_rate=0.0001\u001b[0m\n",
      "\u001b[31mPolicy training> Surrogate loss=0.024106813594698906, KL divergence=[0.], Entropy=[-0.2441168], training epoch=6, learning_rate=0.0001\u001b[0m\n",
      "\u001b[31mPolicy training> Surrogate loss=0.028101416304707527, KL divergence=[0.], Entropy=[-0.24412933], training epoch=7, learning_rate=0.0001\u001b[0m\n",
      "\u001b[31mPolicy training> Surrogate loss=0.017681611701846123, KL divergence=[0.], Entropy=[-0.24413978], training epoch=8, learning_rate=0.0001\u001b[0m\n",
      "\u001b[31mPolicy training> Surrogate loss=0.032554689794778824, KL divergence=[0.], Entropy=[-0.24415006], training epoch=9, learning_rate=0.0001\u001b[0m\n",
      "\u001b[31mTraining> Name=main_level/agent, Worker=0, Episode=54, Total reward=-2.72, Steps=54710, Training iteration=26\u001b[0m\n",
      "\u001b[31m## agent: Starting evaluation phase\u001b[0m\n",
      "\u001b[31mTesting> Name=main_level/agent, Worker=0, Episode=54, Total reward=-0.17, Steps=55296, Training iteration=26\u001b[0m\n",
      "\u001b[31mTesting> Name=main_level/agent, Worker=0, Episode=54, Total reward=0.06, Steps=55296, Training iteration=26\u001b[0m\n",
      "\u001b[31mTesting> Name=main_level/agent, Worker=0, Episode=54, Total reward=-0.13, Steps=55296, Training iteration=26\u001b[0m\n",
      "\u001b[31mTesting> Name=main_level/agent, Worker=0, Episode=54, Total reward=-0.3, Steps=55296, Training iteration=26\u001b[0m\n",
      "\u001b[31mTesting> Name=main_level/agent, Worker=0, Episode=54, Total reward=-0.17, Steps=55296, Training iteration=26\u001b[0m\n",
      "\u001b[31m## agent: Finished evaluation phase. Success rate = 0.0, Avg Total Reward = -0.14\u001b[0m\n",
      "\u001b[31mCheckpoint> Saving in path=['/opt/ml/output/data/checkpoint/28_Step-55297.ckpt.main_level.agent.main.online']\u001b[0m\n",
      "\u001b[31mTraining> Name=main_level/agent, Worker=0, Episode=55, Total reward=-2.65, Steps=56027, Training iteration=26\u001b[0m\n",
      "\u001b[31mPolicy training> Surrogate loss=0.047147203236818314, KL divergence=[0.], Entropy=[-0.24415185], training epoch=0, learning_rate=0.0001\u001b[0m\n",
      "\u001b[31mPolicy training> Surrogate loss=0.022395340725779533, KL divergence=[0.], Entropy=[-0.24418421], training epoch=1, learning_rate=0.0001\u001b[0m\n",
      "\u001b[31mPolicy training> Surrogate loss=0.032668959349393845, KL divergence=[0.], Entropy=[-0.2442142], training epoch=2, learning_rate=0.0001\u001b[0m\n",
      "\u001b[31mPolicy training> Surrogate loss=0.023071520030498505, KL divergence=[0.], Entropy=[-0.24422598], training epoch=3, learning_rate=0.0001\u001b[0m\n",
      "\u001b[31mPolicy training> Surrogate loss=0.03296980634331703, KL divergence=[0.], Entropy=[-0.24423502], training epoch=4, learning_rate=0.0001\u001b[0m\n",
      "\u001b[31mPolicy training> Surrogate loss=0.028853099793195724, KL divergence=[0.], Entropy=[-0.24425942], training epoch=5, learning_rate=0.0001\u001b[0m\n",
      "\u001b[31mPolicy training> Surrogate loss=0.02790745534002781, KL divergence=[0.], Entropy=[-0.2442953], training epoch=6, learning_rate=0.0001\u001b[0m\n",
      "\u001b[31mPolicy training> Surrogate loss=0.02471843548119068, KL divergence=[0.], Entropy=[-0.24431047], training epoch=7, learning_rate=0.0001\u001b[0m\n",
      "\u001b[31mPolicy training> Surrogate loss=0.03196879103779793, KL divergence=[0.], Entropy=[-0.24431954], training epoch=8, learning_rate=0.0001\u001b[0m\n",
      "\u001b[31mPolicy training> Surrogate loss=0.030333368107676506, KL divergence=[0.], Entropy=[-0.24431348], training epoch=9, learning_rate=0.0001\u001b[0m\n",
      "\u001b[31mTraining> Name=main_level/agent, Worker=0, Episode=56, Total reward=-2.52, Steps=56758, Training iteration=27\u001b[0m\n"
     ]
    },
    {
     "name": "stdout",
     "output_type": "stream",
     "text": [
      "\u001b[31m## agent: Starting evaluation phase\u001b[0m\n",
      "\u001b[31mTesting> Name=main_level/agent, Worker=0, Episode=56, Total reward=0.04, Steps=57344, Training iteration=27\u001b[0m\n",
      "\u001b[31mTesting> Name=main_level/agent, Worker=0, Episode=56, Total reward=-0.06, Steps=57344, Training iteration=27\u001b[0m\n",
      "\u001b[31mTesting> Name=main_level/agent, Worker=0, Episode=56, Total reward=-0.59, Steps=57344, Training iteration=27\u001b[0m\n",
      "\u001b[31mTesting> Name=main_level/agent, Worker=0, Episode=56, Total reward=-0.44, Steps=57344, Training iteration=27\u001b[0m\n",
      "\u001b[31mTesting> Name=main_level/agent, Worker=0, Episode=56, Total reward=-0.74, Steps=57344, Training iteration=27\u001b[0m\n",
      "\u001b[31m## agent: Finished evaluation phase. Success rate = 0.0, Avg Total Reward = -0.36\u001b[0m\n",
      "\u001b[31mCheckpoint> Saving in path=['/opt/ml/output/data/checkpoint/29_Step-57345.ckpt.main_level.agent.main.online']\u001b[0m\n",
      "\u001b[31mTraining> Name=main_level/agent, Worker=0, Episode=57, Total reward=-2.89, Steps=58075, Training iteration=27\u001b[0m\n",
      "\u001b[31mPolicy training> Surrogate loss=0.034931521862745285, KL divergence=[0.], Entropy=[-0.24430871], training epoch=0, learning_rate=0.0001\u001b[0m\n",
      "\u001b[31mPolicy training> Surrogate loss=0.0314793735742569, KL divergence=[0.], Entropy=[-0.24433346], training epoch=1, learning_rate=0.0001\u001b[0m\n",
      "\u001b[31mPolicy training> Surrogate loss=0.019002867862582207, KL divergence=[0.], Entropy=[-0.24435773], training epoch=2, learning_rate=0.0001\u001b[0m\n",
      "\u001b[31mPolicy training> Surrogate loss=0.030090494081377983, KL divergence=[0.], Entropy=[-0.24437751], training epoch=3, learning_rate=0.0001\u001b[0m\n",
      "\u001b[31mPolicy training> Surrogate loss=0.01089328434318304, KL divergence=[0.], Entropy=[-0.24438876], training epoch=4, learning_rate=0.0001\u001b[0m\n",
      "\u001b[31mPolicy training> Surrogate loss=0.016949832439422607, KL divergence=[0.], Entropy=[-0.24441715], training epoch=5, learning_rate=0.0001\u001b[0m\n",
      "\u001b[31mPolicy training> Surrogate loss=0.0211087204515934, KL divergence=[0.], Entropy=[-0.24443994], training epoch=6, learning_rate=0.0001\u001b[0m\n",
      "\u001b[31mPolicy training> Surrogate loss=0.02933698706328869, KL divergence=[0.], Entropy=[-0.24442998], training epoch=7, learning_rate=0.0001\u001b[0m\n",
      "\u001b[31mPolicy training> Surrogate loss=0.016978751868009567, KL divergence=[0.], Entropy=[-0.24443322], training epoch=8, learning_rate=0.0001\u001b[0m\n",
      "\u001b[31mPolicy training> Surrogate loss=0.016536157578229904, KL divergence=[0.], Entropy=[-0.24443951], training epoch=9, learning_rate=0.0001\u001b[0m\n",
      "\u001b[31mTraining> Name=main_level/agent, Worker=0, Episode=58, Total reward=-2.53, Steps=58806, Training iteration=28\u001b[0m\n",
      "\u001b[31m## agent: Starting evaluation phase\u001b[0m\n",
      "\u001b[31mTesting> Name=main_level/agent, Worker=0, Episode=58, Total reward=-0.12, Steps=59392, Training iteration=28\u001b[0m\n",
      "\u001b[31mTesting> Name=main_level/agent, Worker=0, Episode=58, Total reward=-0.43, Steps=59392, Training iteration=28\u001b[0m\n",
      "\u001b[31mTesting> Name=main_level/agent, Worker=0, Episode=58, Total reward=-0.11, Steps=59392, Training iteration=28\u001b[0m\n",
      "\u001b[31mTesting> Name=main_level/agent, Worker=0, Episode=58, Total reward=-0.1, Steps=59392, Training iteration=28\u001b[0m\n",
      "\u001b[31mTesting> Name=main_level/agent, Worker=0, Episode=58, Total reward=-0.01, Steps=59392, Training iteration=28\u001b[0m\n",
      "\u001b[31m## agent: Finished evaluation phase. Success rate = 0.0, Avg Total Reward = -0.15\u001b[0m\n",
      "\u001b[31mCheckpoint> Saving in path=['/opt/ml/output/data/checkpoint/30_Step-59393.ckpt.main_level.agent.main.online']\u001b[0m\n",
      "\u001b[31mTraining> Name=main_level/agent, Worker=0, Episode=59, Total reward=-3.07, Steps=60123, Training iteration=28\u001b[0m\n",
      "\u001b[31mPolicy training> Surrogate loss=0.026723189279437065, KL divergence=[0.], Entropy=[-0.24444532], training epoch=0, learning_rate=0.0001\u001b[0m\n",
      "\u001b[31mPolicy training> Surrogate loss=0.02606072463095188, KL divergence=[0.], Entropy=[-0.24446616], training epoch=1, learning_rate=0.0001\u001b[0m\n",
      "\u001b[31mPolicy training> Surrogate loss=0.03448633849620819, KL divergence=[0.], Entropy=[-0.2444923], training epoch=2, learning_rate=0.0001\u001b[0m\n",
      "\u001b[31mPolicy training> Surrogate loss=0.03602318838238716, KL divergence=[0.], Entropy=[-0.24453397], training epoch=3, learning_rate=0.0001\u001b[0m\n",
      "\u001b[31mPolicy training> Surrogate loss=0.028769008815288544, KL divergence=[0.], Entropy=[-0.2445754], training epoch=4, learning_rate=0.0001\u001b[0m\n",
      "\u001b[31mPolicy training> Surrogate loss=0.036359820514917374, KL divergence=[0.], Entropy=[-0.24459983], training epoch=5, learning_rate=0.0001\u001b[0m\n",
      "\u001b[31mPolicy training> Surrogate loss=0.03063923679292202, KL divergence=[0.], Entropy=[-0.24461724], training epoch=6, learning_rate=0.0001\u001b[0m\n",
      "\u001b[31mPolicy training> Surrogate loss=0.025110460817813873, KL divergence=[0.], Entropy=[-0.2446288], training epoch=7, learning_rate=0.0001\u001b[0m\n",
      "\u001b[31mPolicy training> Surrogate loss=0.01895006373524666, KL divergence=[0.], Entropy=[-0.2446537], training epoch=8, learning_rate=0.0001\u001b[0m\n",
      "\u001b[31mPolicy training> Surrogate loss=0.01864372007548809, KL divergence=[0.], Entropy=[-0.2446797], training epoch=9, learning_rate=0.0001\u001b[0m\n",
      "\u001b[31mTraining> Name=main_level/agent, Worker=0, Episode=60, Total reward=-3.06, Steps=60854, Training iteration=29\u001b[0m\n",
      "\u001b[31m## agent: Starting evaluation phase\u001b[0m\n",
      "\u001b[31mTesting> Name=main_level/agent, Worker=0, Episode=60, Total reward=-0.57, Steps=61440, Training iteration=29\u001b[0m\n"
     ]
    }
   ],
   "source": [
    "instance_type = \"ml.m4.4xlarge\"\n",
    "estimator = RLEstimator(source_dir='src',\n",
    "                      entry_point=\"train-coach.py\",\n",
    "                      dependencies=[\"common/sagemaker_rl\"],\n",
    "                      toolkit=RLToolkit.COACH,\n",
    "                      toolkit_version='0.11.0',\n",
    "                      framework=RLFramework.MXNET,\n",
    "                      role=role,\n",
    "                      train_instance_count=1,\n",
    "                      train_instance_type=instance_type,\n",
    "                      output_path=s3_output_path,\n",
    "                      base_job_name=job_name_prefix,\n",
    "                      hyperparameters = {\n",
    "                          \"RLCOACH_PRESET\" : \"preset-portfolio-management-clippedppo\",\n",
    "                          \"rl.agent_params.algorithm.discount\": 0.9,\n",
    "                          \"rl.evaluation_steps:EnvironmentEpisodes\": 5\n",
    "                      }\n",
    "                    )\n",
    "# takes ~15min\n",
    "# The log may show KL divergence=[0.]. This is expected because the divergences were not necessarily required for \n",
    "# Clipped PPO. By default they are not calculated for computational efficiency.\n",
    "estimator.fit()"
   ]
  },
  {
   "cell_type": "markdown",
   "metadata": {
    "slideshow": {
     "slide_type": "slide"
    }
   },
   "source": [
    "## Get Training Results"
   ]
  },
  {
   "cell_type": "code",
   "execution_count": 18,
   "metadata": {},
   "outputs": [
    {
     "name": "stdout",
     "output_type": "stream",
     "text": [
      "Job name: rl-portfolio-management-2019-06-12-21-36-03-778\n",
      "S3 job path: s3://sagemaker-us-east-1-412868550678/rl-portfolio-management-2019-06-12-21-36-03-778\n",
      "Output.tar.gz location: s3://sagemaker-us-east-1-412868550678/rl-portfolio-management-2019-06-12-21-36-03-778/output/output.tar.gz\n",
      "Intermediate folder path: s3://sagemaker-us-east-1-412868550678/rl-portfolio-management-2019-06-12-21-36-03-778/output/intermediate/\n",
      "Create local folder /tmp/rl-portfolio-management-2019-06-12-21-36-03-778\n"
     ]
    }
   ],
   "source": [
    "job_name=estimator._current_job_name\n",
    "print(\"Job name: {}\".format(job_name))\n",
    "\n",
    "s3_url = \"s3://{}/{}\".format(s3_bucket,job_name)\n",
    "output_tar_key = \"{}/output/output.tar.gz\".format(job_name)\n",
    "\n",
    "intermediate_folder_key = \"{}/output/intermediate/\".format(job_name)\n",
    "output_url = \"s3://{}/{}\".format(s3_bucket, output_tar_key)\n",
    "intermediate_url = \"s3://{}/{}\".format(s3_bucket, intermediate_folder_key)\n",
    "\n",
    "print(\"S3 job path: {}\".format(s3_url))\n",
    "print(\"Output.tar.gz location: {}\".format(output_url))\n",
    "print(\"Intermediate folder path: {}\".format(intermediate_url))\n",
    "    \n",
    "tmp_dir = \"/tmp/{}\".format(job_name)\n",
    "os.system(\"mkdir {}\".format(tmp_dir))\n",
    "print(\"Create local folder {}\".format(tmp_dir))"
   ]
  },
  {
   "cell_type": "code",
   "execution_count": 19,
   "metadata": {},
   "outputs": [
    {
     "name": "stdout",
     "output_type": "stream",
     "text": [
      "Waiting for s3://sagemaker-us-east-1-412868550678/rl-portfolio-management-2019-06-12-21-36-03-778/output/output.tar.gz...\n",
      "Downloading rl-portfolio-management-2019-06-12-21-36-03-778/output/output.tar.gz\n",
      "Copied output files to /tmp/rl-portfolio-management-2019-06-12-21-36-03-778\n",
      "Checkpoint directory /tmp/rl-portfolio-management-2019-06-12-21-36-03-778/checkpoint\n",
      "info directory /tmp/rl-portfolio-management-2019-06-12-21-36-03-778/\n",
      "CPU times: user 141 ms, sys: 28.7 ms, total: 170 ms\n",
      "Wall time: 1.16 s\n"
     ]
    }
   ],
   "source": [
    "%%time\n",
    "\n",
    "wait_for_s3_object(s3_bucket, output_tar_key, tmp_dir)  \n",
    "\n",
    "if not os.path.isfile(\"{}/output.tar.gz\".format(tmp_dir)):\n",
    "    raise FileNotFoundError(\"File output.tar.gz not found\")\n",
    "os.system(\"tar -xvzf {}/output.tar.gz -C {}\".format(tmp_dir, tmp_dir))\n",
    "os.system(\"aws s3 cp --recursive {} {}\".format(intermediate_url, tmp_dir))\n",
    "if not os.path.isfile(\"{}/output.tar.gz\".format(tmp_dir)):\n",
    "    raise FileNotFoundError(\"File output.tar.gz not found\")\n",
    "os.system(\"tar -xvzf {}/output.tar.gz -C {}\".format(tmp_dir, tmp_dir))\n",
    "print(\"Copied output files to {}\".format(tmp_dir))\n",
    "\n",
    "checkpoint_dir = \"{}/checkpoint\".format(tmp_dir)\n",
    "info_dir = \"{}/\".format(tmp_dir)\n",
    "\n",
    "print(\"Checkpoint directory {}\".format(checkpoint_dir))\n",
    "print(\"info directory {}\".format(info_dir))"
   ]
  },
  {
   "cell_type": "markdown",
   "metadata": {},
   "source": [
    "## Visualize"
   ]
  },
  {
   "cell_type": "code",
   "execution_count": 20,
   "metadata": {},
   "outputs": [
    {
     "name": "stdout",
     "output_type": "stream",
     "text": [
      "Waiting for s3://sagemaker-us-east-1-412868550678/rl-portfolio-management-2019-06-12-21-36-03-778/output/intermediate/worker_0.simple_rl_graph.main_level.main_level.agent_0.csv...\n",
      "Downloading rl-portfolio-management-2019-06-12-21-36-03-778/output/intermediate/worker_0.simple_rl_graph.main_level.main_level.agent_0.csv\n"
     ]
    },
    {
     "data": {
      "image/png": "[encoded data removed]",
      "text/plain": [
       "<Figure size 864x360 with 1 Axes>"
      ]
     },
     "metadata": {},
     "output_type": "display_data"
    }
   ],
   "source": [
    "%matplotlib inline\n",
    "import pandas as pd\n",
    "\n",
    "csv_file_name = \"worker_0.simple_rl_graph.main_level.main_level.agent_0.csv\"\n",
    "key = os.path.join(intermediate_folder_key, csv_file_name)\n",
    "wait_for_s3_object(s3_bucket, key, tmp_dir)\n",
    "\n",
    "csv_file = \"{}/{}\".format(tmp_dir, csv_file_name)\n",
    "df = pd.read_csv(csv_file)\n",
    "df = df.dropna(subset=['Evaluation Reward'])\n",
    "# print(list(df))\n",
    "x_axis = 'Episode #'\n",
    "y_axis = 'Evaluation Reward'\n",
    "\n",
    "plt = df.plot(x=x_axis,y=y_axis, figsize=(12,5), legend=True, style='b-')\n",
    "plt.set_ylabel(y_axis);\n",
    "plt.set_xlabel(x_axis);"
   ]
  },
  {
   "cell_type": "code",
   "execution_count": 21,
   "metadata": {},
   "outputs": [
    {
     "name": "stderr",
     "output_type": "stream",
     "text": [
      "/home/ec2-user/anaconda3/envs/mxnet_p36/lib/python3.6/site-packages/ipykernel/__main__.py:15: FutureWarning: 'argmax' is deprecated. Use 'idxmax' instead. The behavior of 'argmax' will be corrected to return the positional maximum in the future. Use 'series.values.argmax' to get the position of the maximum now.\n"
     ]
    },
    {
     "data": {
      "text/plain": [
       "<matplotlib.axes._subplots.AxesSubplot at 0x7fd700133518>"
      ]
     },
     "execution_count": 21,
     "metadata": {},
     "output_type": "execute_result"
    },
    {
     "data": {
      "text/plain": [
       "<Figure size 432x288 with 0 Axes>"
      ]
     },
     "metadata": {},
     "output_type": "display_data"
    },
    {
     "data": {
      "image/png": "[encoded data removed]",
      "text/plain": [
       "<Figure size 432x288 with 1 Axes>"
      ]
     },
     "metadata": {},
     "output_type": "display_data"
    }
   ],
   "source": [
    "import numpy as np\n",
    "import matplotlib.pyplot as plt\n",
    "\n",
    "# same as in https://github.com/vermouth1992/drl-portfolio-management/blob/master/src/environment/portfolio.py\n",
    "def sharpe(returns, freq=30, rfr=0):\n",
    "    \"\"\" Given a set of returns, calculates naive (rfr=0) sharpe. \"\"\"\n",
    "    eps = np.finfo(np.float32).eps\n",
    "    return (np.sqrt(freq) * np.mean(returns - rfr + eps)) / np.std(returns - rfr + eps)\n",
    "\n",
    "\n",
    "def max_drawdown(returns):\n",
    "    \"\"\" Max drawdown. See https://www.investopedia.com/terms/m/maximum-drawdown-mdd.asp \"\"\"\n",
    "    eps = np.finfo(np.float32).eps\n",
    "    peak = returns.max()\n",
    "    trough = returns[returns.argmax():].min()\n",
    "    return (trough - peak) / (peak + eps)\n",
    "\n",
    "info = info_dir + 'portfolio-management.csv'\n",
    "df_info = pd.read_csv(info)\n",
    "df_info['date'] = pd.to_datetime(df_info['date'], format='%Y-%m-%d')\n",
    "df_info.set_index('date', inplace=True)\n",
    "mdd = max_drawdown(df_info.rate_of_return + 1)\n",
    "sharpe_ratio = sharpe(df_info.rate_of_return)\n",
    "title = 'max_drawdown={: 2.2%} sharpe_ratio={: 2.4f}'.format(mdd, sharpe_ratio)\n",
    "df_info[[\"portfolio_value\", \"market_value\"]].plot(title=title, fig=plt.gcf(), rot=30)"
   ]
  }
 ],
 "metadata": {
  "celltoolbar": "Slideshow",
  "kernelspec": {
   "display_name": "Python 2",
   "language": "python",
   "name": "python2"
  },
  "language_info": {
   "codemirror_mode": {
    "name": "ipython",
    "version": 2
   },
   "file_extension": ".py",
   "mimetype": "text/x-python",
   "name": "python",
   "nbconvert_exporter": "python",
   "pygments_lexer": "ipython2",
   "version": "2.7.15"
  }
 },
 "nbformat": 4,
 "nbformat_minor": 2
}
